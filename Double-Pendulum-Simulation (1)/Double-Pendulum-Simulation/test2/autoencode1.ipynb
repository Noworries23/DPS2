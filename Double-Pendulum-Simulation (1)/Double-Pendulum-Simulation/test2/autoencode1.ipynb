{
 "cells": [
  {
   "cell_type": "code",
   "execution_count": 1,
   "id": "81a93cf3-b9c3-4a2e-a26f-dd71322d8bbc",
   "metadata": {},
   "outputs": [
    {
     "name": "stdout",
     "output_type": "stream",
     "text": [
      "Using 2 GPU(s)\n",
      "Keys in the .npz file: ['Time', 'Theta1', 'Theta2', 'X1', 'Y1', 'X2', 'Y2', 'Energy']\n"
     ]
    }
   ],
   "source": [
    "import numpy as np\n",
    "import torch\n",
    "import torch.nn as nn\n",
    "import torch.optim as optim\n",
    "from torch.utils.data import DataLoader, TensorDataset\n",
    "from itertools import combinations\n",
    "import os\n",
    "\n",
    "# Set device (multi-GPU setup)\n",
    "device = torch.device(\"cuda\" if torch.cuda.is_available() else \"cpu\")\n",
    "num_gpus = torch.cuda.device_count()\n",
    "print(f\"Using {num_gpus} GPU(s)\")\n",
    "\n",
    "# Load and inspect the data\n",
    "data = np.load(\"/Data/MI_PHYSICS/Double-Pendulum-Simulation/test1/pendulum_data360.npz\")\n",
    "keys = list(data.keys())\n",
    "print(\"Keys in the .npz file:\", keys)\n"
   ]
  },
  {
   "cell_type": "code",
   "execution_count": 2,
   "id": "e7c18a27-4d5c-4394-a9cb-f6913a414535",
   "metadata": {
    "tags": []
   },
   "outputs": [],
   "source": [
    "class Autoencoder(nn.Module):\n",
    "    def __init__(self, input_dim):\n",
    "        super(Autoencoder, self).__init__()\n",
    "        self.encoder = nn.Sequential(\n",
    "            nn.Linear(input_dim, 128),\n",
    "            nn.ReLU(),\n",
    "            nn.Linear(128, 32),\n",
    "            nn.ReLU(),\n",
    "            nn.Linear(32, 2)  # Bottleneck\n",
    "        )\n",
    "        self.decoder = nn.Sequential(\n",
    "            nn.Linear(2, 32),\n",
    "            nn.ReLU(),\n",
    "            nn.Linear(32, 128),\n",
    "            nn.ReLU(),\n",
    "            nn.Linear(128, input_dim),\n",
    "        )\n",
    "\n",
    "    def forward(self, x):\n",
    "        encoded = self.encoder(x)\n",
    "        decoded = self.decoder(encoded)\n",
    "        return decoded\n"
   ]
  },
  {
   "cell_type": "code",
   "execution_count": 20,
   "id": "ea32f806-e67e-48b3-9d54-09988ac1c606",
   "metadata": {
    "tags": []
   },
   "outputs": [
    {
     "data": {
      "application/vnd.jupyter.widget-view+json": {
       "model_id": "5ab5fa44248642f9b25f2292ed0ce2a0",
       "version_major": 2,
       "version_minor": 0
      },
      "text/plain": [
       "Overall Progress:   0%|          | 0/247 [00:00<?, ?it/s]"
      ]
     },
     "metadata": {},
     "output_type": "display_data"
    },
    {
     "data": {
      "application/vnd.jupyter.widget-view+json": {
       "model_id": "2d454ad159ba4bdb8d039ac69745047e",
       "version_major": 2,
       "version_minor": 0
      },
      "text/plain": [
       "Combo size 2:   0%|          | 0/28 [00:00<?, ?it/s]"
      ]
     },
     "metadata": {},
     "output_type": "display_data"
    },
    {
     "name": "stdout",
     "output_type": "stream",
     "text": [
      "\n",
      "Training on combo: Time_Theta1\n"
     ]
    },
    {
     "data": {
      "application/vnd.jupyter.widget-view+json": {
       "model_id": "",
       "version_major": 2,
       "version_minor": 0
      },
      "text/plain": [
       "Epochs:   0%|          | 0/20 [00:00<?, ?it/s]"
      ]
     },
     "metadata": {},
     "output_type": "display_data"
    },
    {
     "name": "stdout",
     "output_type": "stream",
     "text": [
      "Evaluation Loss for Time_Theta1: 0.000019\n",
      "---------------------\n",
      "Evaluation Loss for Time_Theta1: 0.000031\n",
      "---------------------\n",
      "Evaluation Loss for Time_Theta1: 0.000019\n",
      "---------------------\n",
      "Evaluation Loss for Time_Theta1: 0.000023\n",
      "---------------------\n",
      "Evaluation Loss for Time_Theta1: 0.000006\n",
      "---------------------\n",
      "Evaluation Loss for Time_Theta1: 0.000069\n",
      "---------------------\n",
      "Evaluation Loss for Time_Theta1: 0.000005\n",
      "---------------------\n",
      "Evaluation Loss for Time_Theta1: 0.000023\n",
      "---------------------\n",
      "Evaluation Loss for Time_Theta1: 0.000019\n",
      "---------------------\n",
      "Evaluation Loss for Time_Theta1: 0.000029\n",
      "---------------------\n",
      "Evaluation Loss for Time_Theta1: 0.000008\n",
      "---------------------\n",
      "Evaluation Loss for Time_Theta1: 0.000004\n",
      "---------------------\n",
      "Evaluation Loss for Time_Theta1: 0.000003\n",
      "---------------------\n",
      "Evaluation Loss for Time_Theta1: 0.000011\n",
      "---------------------\n",
      "Evaluation Loss for Time_Theta1: 0.000036\n",
      "---------------------\n",
      "Evaluation Loss for Time_Theta1: 0.000002\n",
      "---------------------\n",
      "Evaluation Loss for Time_Theta1: 0.000003\n",
      "---------------------\n",
      "Evaluation Loss for Time_Theta1: 0.000015\n",
      "---------------------\n",
      "Evaluation Loss for Time_Theta1: 0.000004\n",
      "---------------------\n",
      "Evaluation Loss for Time_Theta1: 0.000009\n",
      "---------------------\n",
      "\n",
      "Training on combo: Time_Theta2\n"
     ]
    },
    {
     "data": {
      "application/vnd.jupyter.widget-view+json": {
       "model_id": "",
       "version_major": 2,
       "version_minor": 0
      },
      "text/plain": [
       "Epochs:   0%|          | 0/20 [00:00<?, ?it/s]"
      ]
     },
     "metadata": {},
     "output_type": "display_data"
    },
    {
     "name": "stdout",
     "output_type": "stream",
     "text": [
      "Evaluation Loss for Time_Theta2: 0.000004\n",
      "---------------------\n",
      "Evaluation Loss for Time_Theta2: 0.000010\n",
      "---------------------\n",
      "Evaluation Loss for Time_Theta2: 0.000015\n",
      "---------------------\n",
      "Evaluation Loss for Time_Theta2: 0.000001\n",
      "---------------------\n",
      "Evaluation Loss for Time_Theta2: 0.000010\n",
      "---------------------\n",
      "Evaluation Loss for Time_Theta2: 0.000001\n",
      "---------------------\n",
      "Evaluation Loss for Time_Theta2: 0.000029\n",
      "---------------------\n",
      "Evaluation Loss for Time_Theta2: 0.000001\n",
      "---------------------\n",
      "Evaluation Loss for Time_Theta2: 0.000118\n",
      "---------------------\n",
      "Evaluation Loss for Time_Theta2: 0.000044\n",
      "---------------------\n",
      "Evaluation Loss for Time_Theta2: 0.000038\n",
      "---------------------\n",
      "Evaluation Loss for Time_Theta2: 0.000018\n",
      "---------------------\n",
      "Evaluation Loss for Time_Theta2: 0.000008\n",
      "---------------------\n",
      "Evaluation Loss for Time_Theta2: 0.000004\n",
      "---------------------\n",
      "Evaluation Loss for Time_Theta2: 0.000000\n",
      "---------------------\n",
      "Evaluation Loss for Time_Theta2: 0.000043\n",
      "---------------------\n",
      "Evaluation Loss for Time_Theta2: 0.000005\n",
      "---------------------\n",
      "Evaluation Loss for Time_Theta2: 0.000001\n",
      "---------------------\n",
      "Evaluation Loss for Time_Theta2: 0.000002\n",
      "---------------------\n",
      "Evaluation Loss for Time_Theta2: 0.000007\n",
      "---------------------\n",
      "\n",
      "Training on combo: Time_X1\n"
     ]
    },
    {
     "data": {
      "application/vnd.jupyter.widget-view+json": {
       "model_id": "88f1db3696564017ad62fb51552b291c",
       "version_major": 2,
       "version_minor": 0
      },
      "text/plain": [
       "Epochs:   0%|          | 0/20 [00:00<?, ?it/s]"
      ]
     },
     "metadata": {},
     "output_type": "display_data"
    },
    {
     "name": "stdout",
     "output_type": "stream",
     "text": [
      "Evaluation Loss for Time_X1: 0.000018\n",
      "---------------------\n"
     ]
    },
    {
     "ename": "KeyboardInterrupt",
     "evalue": "",
     "output_type": "error",
     "traceback": [
      "\u001b[0;31m---------------------------------------------------------------------------\u001b[0m",
      "\u001b[0;31mKeyboardInterrupt\u001b[0m                         Traceback (most recent call last)",
      "Cell \u001b[0;32mIn[20], line 50\u001b[0m\n\u001b[1;32m     48\u001b[0m output \u001b[38;5;241m=\u001b[39m model(x)\n\u001b[1;32m     49\u001b[0m loss \u001b[38;5;241m=\u001b[39m criterion(output, x)\n\u001b[0;32m---> 50\u001b[0m \u001b[43mloss\u001b[49m\u001b[38;5;241;43m.\u001b[39;49m\u001b[43mbackward\u001b[49m\u001b[43m(\u001b[49m\u001b[43m)\u001b[49m\n\u001b[1;32m     51\u001b[0m optimizer\u001b[38;5;241m.\u001b[39mstep()\n\u001b[1;32m     52\u001b[0m total_loss \u001b[38;5;241m+\u001b[39m\u001b[38;5;241m=\u001b[39m loss\u001b[38;5;241m.\u001b[39mitem()\n",
      "File \u001b[0;32m~/.local/lib/python3.10/site-packages/torch/_tensor.py:488\u001b[0m, in \u001b[0;36mTensor.backward\u001b[0;34m(self, gradient, retain_graph, create_graph, inputs)\u001b[0m\n\u001b[1;32m    478\u001b[0m \u001b[38;5;28;01mif\u001b[39;00m has_torch_function_unary(\u001b[38;5;28mself\u001b[39m):\n\u001b[1;32m    479\u001b[0m     \u001b[38;5;28;01mreturn\u001b[39;00m handle_torch_function(\n\u001b[1;32m    480\u001b[0m         Tensor\u001b[38;5;241m.\u001b[39mbackward,\n\u001b[1;32m    481\u001b[0m         (\u001b[38;5;28mself\u001b[39m,),\n\u001b[0;32m   (...)\u001b[0m\n\u001b[1;32m    486\u001b[0m         inputs\u001b[38;5;241m=\u001b[39minputs,\n\u001b[1;32m    487\u001b[0m     )\n\u001b[0;32m--> 488\u001b[0m \u001b[43mtorch\u001b[49m\u001b[38;5;241;43m.\u001b[39;49m\u001b[43mautograd\u001b[49m\u001b[38;5;241;43m.\u001b[39;49m\u001b[43mbackward\u001b[49m\u001b[43m(\u001b[49m\n\u001b[1;32m    489\u001b[0m \u001b[43m    \u001b[49m\u001b[38;5;28;43mself\u001b[39;49m\u001b[43m,\u001b[49m\u001b[43m \u001b[49m\u001b[43mgradient\u001b[49m\u001b[43m,\u001b[49m\u001b[43m \u001b[49m\u001b[43mretain_graph\u001b[49m\u001b[43m,\u001b[49m\u001b[43m \u001b[49m\u001b[43mcreate_graph\u001b[49m\u001b[43m,\u001b[49m\u001b[43m \u001b[49m\u001b[43minputs\u001b[49m\u001b[38;5;241;43m=\u001b[39;49m\u001b[43minputs\u001b[49m\n\u001b[1;32m    490\u001b[0m \u001b[43m\u001b[49m\u001b[43m)\u001b[49m\n",
      "File \u001b[0;32m~/.local/lib/python3.10/site-packages/torch/autograd/__init__.py:197\u001b[0m, in \u001b[0;36mbackward\u001b[0;34m(tensors, grad_tensors, retain_graph, create_graph, grad_variables, inputs)\u001b[0m\n\u001b[1;32m    192\u001b[0m     retain_graph \u001b[38;5;241m=\u001b[39m create_graph\n\u001b[1;32m    194\u001b[0m \u001b[38;5;66;03m# The reason we repeat same the comment below is that\u001b[39;00m\n\u001b[1;32m    195\u001b[0m \u001b[38;5;66;03m# some Python versions print out the first line of a multi-line function\u001b[39;00m\n\u001b[1;32m    196\u001b[0m \u001b[38;5;66;03m# calls in the traceback and some print out the last line\u001b[39;00m\n\u001b[0;32m--> 197\u001b[0m \u001b[43mVariable\u001b[49m\u001b[38;5;241;43m.\u001b[39;49m\u001b[43m_execution_engine\u001b[49m\u001b[38;5;241;43m.\u001b[39;49m\u001b[43mrun_backward\u001b[49m\u001b[43m(\u001b[49m\u001b[43m  \u001b[49m\u001b[38;5;66;43;03m# Calls into the C++ engine to run the backward pass\u001b[39;49;00m\n\u001b[1;32m    198\u001b[0m \u001b[43m    \u001b[49m\u001b[43mtensors\u001b[49m\u001b[43m,\u001b[49m\u001b[43m \u001b[49m\u001b[43mgrad_tensors_\u001b[49m\u001b[43m,\u001b[49m\u001b[43m \u001b[49m\u001b[43mretain_graph\u001b[49m\u001b[43m,\u001b[49m\u001b[43m \u001b[49m\u001b[43mcreate_graph\u001b[49m\u001b[43m,\u001b[49m\u001b[43m \u001b[49m\u001b[43minputs\u001b[49m\u001b[43m,\u001b[49m\n\u001b[1;32m    199\u001b[0m \u001b[43m    \u001b[49m\u001b[43mallow_unreachable\u001b[49m\u001b[38;5;241;43m=\u001b[39;49m\u001b[38;5;28;43;01mTrue\u001b[39;49;00m\u001b[43m,\u001b[49m\u001b[43m \u001b[49m\u001b[43maccumulate_grad\u001b[49m\u001b[38;5;241;43m=\u001b[39;49m\u001b[38;5;28;43;01mTrue\u001b[39;49;00m\u001b[43m)\u001b[49m\n",
      "\u001b[0;31mKeyboardInterrupt\u001b[0m: "
     ]
    }
   ],
   "source": [
    "from tqdm.notebook import tqdm\n",
    "from itertools import combinations\n",
    "\n",
    "# Create a tqdm progress bar for overall progress\n",
    "total_combos = sum(1 for r in range(2, len(keys)+1) for _ in combinations(keys, r))\n",
    "with tqdm(total=total_combos, desc=\"Overall Progress\", leave=True, dynamic_ncols=True) as overall_bar:\n",
    "    \n",
    "    # Iterate over combinations sizes\n",
    "    for r in range(2, len(keys)+1):\n",
    "        combos = list(combinations(keys, r))\n",
    "        \n",
    "        # Progress bar for current combo size\n",
    "        with tqdm(total=len(combos), desc=f\"Combo size {r}\", leave=False, dynamic_ncols=True) as combo_bar:\n",
    "            \n",
    "            for combo in combos:\n",
    "                try:\n",
    "                    selected_data = np.hstack([data[k].reshape(data[k].shape[0], -1) for k in combo])\n",
    "                except Exception as e:\n",
    "                    print(f\"Skipping {combo} due to shape mismatch: {e}\")\n",
    "                    continue\n",
    "\n",
    "                selected_data = (selected_data - selected_data.mean(axis=0)) / (selected_data.std(axis=0) + 1e-8)\n",
    "\n",
    "                tensor_data = torch.tensor(selected_data, dtype=torch.float32)\n",
    "                dataset = TensorDataset(tensor_data)\n",
    "                loader = DataLoader(dataset, batch_size=256, shuffle=True)\n",
    "\n",
    "                input_dim = selected_data.shape[1]\n",
    "                model = Autoencoder(input_dim)\n",
    "\n",
    "                if num_gpus > 1:\n",
    "                    model = nn.DataParallel(model)\n",
    "                model.to(device)\n",
    "\n",
    "                criterion = nn.MSELoss()\n",
    "                optimizer = optim.Adam(model.parameters(), lr=1e-3)\n",
    "\n",
    "                combo_name = \"_\".join(combo)\n",
    "                print(f\"\\nTraining on combo: {combo_name}\")\n",
    "\n",
    "                # Progress bar for epochs\n",
    "                with tqdm(range(20), desc=\"Epochs\", leave=False, smoothing=True, dynamic_ncols=False) as epoch_bar:\n",
    "                    for epoch in epoch_bar:\n",
    "                        total_loss = 0\n",
    "                        for batch in loader:\n",
    "                            x = batch[0].to(device)\n",
    "                            optimizer.zero_grad()\n",
    "                            output = model(x)\n",
    "                            loss = criterion(output, x)\n",
    "                            loss.backward()\n",
    "                            optimizer.step()\n",
    "                            total_loss += loss.item()\n",
    "\n",
    "                        epoch_bar.set_postfix({\"Loss\": total_loss/len(loader)}, refresh=True)\n",
    "\n",
    "                        torch.save(model, f\"autoencoder_{combo_name}.pt\")\n",
    "\n",
    "                        model.eval()  # Switch model to evaluation mode\n",
    "                        with torch.no_grad():  # Disable gradient calculation for evaluation\n",
    "                            total_loss = 0\n",
    "                            for batch in loader:\n",
    "                                x = batch[0].to(device)\n",
    "                                output = model(x)\n",
    "                                loss = criterion(output, x)\n",
    "                                total_loss += loss.item()\n",
    "\n",
    "                        # Print evaluation results\n",
    "                        print(f\"Evaluation Loss for {combo_name}: {total_loss/len(loader):.6f}\")\n",
    "                        print(\"---------------------\")\n",
    "\n",
    "                # Update combo progress\n",
    "                combo_bar.update(1)\n",
    "            \n",
    "        # Update the overall progress\n",
    "        overall_bar.update(1)\n"
   ]
  },
  {
   "cell_type": "code",
   "execution_count": null,
   "id": "b96a6244-2049-48cd-a00b-08fe50e114f7",
   "metadata": {
    "tags": []
   },
   "outputs": [],
   "source": [
    "import matplotlib.pyplot as plt\n",
    "from mpl_toolkits.mplot3d import Axes3D\n",
    "import plotly.express as px\n",
    "import pandas as pd\n",
    "\n",
    "# Plot all latent space visualizations\n",
    "for r in range(2, len(keys)+1):\n",
    "    for combo in combinations(keys, r):\n",
    "        try:\n",
    "            selected_data = np.hstack([data[k].reshape(data[k].shape[0], -1) for k in combo])\n",
    "        except Exception as e:\n",
    "            print(f\"Skipping plot for {combo} due to shape mismatch: {e}\")\n",
    "            continue\n",
    "\n",
    "        # Normalize\n",
    "        selected_data = (selected_data - selected_data.mean(axis=0)) / (selected_data.std(axis=0) + 1e-8)\n",
    "        tensor_data = torch.tensor(selected_data, dtype=torch.float32)\n",
    "\n",
    "        # Build same model and load saved weights\n",
    "        input_dim = selected_data.shape[1]\n",
    "        model = Autoencoder3D(input_dim)\n",
    "        model_path = f\"autoencoder_{'_'.join(combo)}.pt\"\n",
    "\n",
    "        if num_gpus > 1:\n",
    "            model = nn.DataParallel(model)\n",
    "        model.to(device)\n",
    "\n",
    "        try:\n",
    "            model.load_state_dict(torch.load(model_path))\n",
    "        except Exception as e:\n",
    "            print(f\"Failed to load model for {combo}: {e}\")\n",
    "            continue\n",
    "\n",
    "        model.eval()\n",
    "        with torch.no_grad():\n",
    "            encoded = model.module.encode(tensor_data.to(device)).cpu().numpy() if isinstance(model, nn.DataParallel) else model.encode(tensor_data.to(device)).cpu().numpy()\n",
    "\n",
    "        # ---- 3D Plot using Matplotlib ----\n",
    "        fig = plt.figure(figsize=(6, 5))\n",
    "        ax = fig.add_subplot(111, projection='3d')\n",
    "        ax.scatter(encoded[:, 0], encoded[:, 1], encoded[:, 2], s=8, alpha=0.6)\n",
    "        ax.set_title(f\"3D Encoded Space - {combo}\")\n",
    "        ax.set_xlabel(\"Z1\")\n",
    "        ax.set_ylabel(\"Z2\")\n",
    "        ax.set_zlabel(\"Z3\")\n",
    "        plt.tight_layout()\n",
    "        plt.show()\n",
    "\n",
    "        # ---- Interactive 3D Plot using Plotly ----\n",
    "        df = pd.DataFrame(encoded, columns=[\"Z1\", \"Z2\", \"Z3\"])\n",
    "        df[\"Index\"] = df.index\n",
    "\n",
    "        fig = px.scatter_3d(\n",
    "            df, x=\"Z1\", y=\"Z2\", z=\"Z3\",\n",
    "            color=\"Index\",\n",
    "            title=f\"Interactive 3D - {' + '.join(combo)}\",\n",
    "            opacity=0.8,\n",
    "            width=800,\n",
    "            height=700\n",
    "        )\n",
    "        fig.update_traces(marker=dict(size=4))\n",
    "        fig.update_layout(scene=dict(\n",
    "            xaxis_title='Z1',\n",
    "            yaxis_title='Z2',\n",
    "            zaxis_title='Z3'\n",
    "        ))\n",
    "        fig.show()\n"
   ]
  },
  {
   "cell_type": "code",
   "execution_count": null,
   "id": "3b176446-d71d-49aa-aff6-368b40bb3a72",
   "metadata": {},
   "outputs": [],
   "source": []
  }
 ],
 "metadata": {
  "kernelspec": {
   "display_name": "DPS",
   "language": "python",
   "name": "dps"
  },
  "language_info": {
   "codemirror_mode": {
    "name": "ipython",
    "version": 3
   },
   "file_extension": ".py",
   "mimetype": "text/x-python",
   "name": "python",
   "nbconvert_exporter": "python",
   "pygments_lexer": "ipython3",
   "version": "3.10.10"
  },
  "widgets": {
   "application/vnd.jupyter.widget-state+json": {
    "state": {
     "01af8d727422464e8414013fd7ba18a8": {
      "model_module": "@jupyter-widgets/controls",
      "model_module_version": "2.0.0",
      "model_name": "HBoxModel",
      "state": {
       "children": [
        "IPY_MODEL_b3aec84580fa4af89d2ae23d5d1bbbcb",
        "IPY_MODEL_d25c344f620c42e8b6db7c9e44cfbce9",
        "IPY_MODEL_052a575788e541009cabe01f4ebe4a52"
       ],
       "layout": "IPY_MODEL_c1c5ee0d4f744ea3bdaabfec3b3d18c4"
      }
     },
     "01f57666a161417698872eb49f1c63e8": {
      "model_module": "@jupyter-widgets/controls",
      "model_module_version": "2.0.0",
      "model_name": "FloatProgressModel",
      "state": {
       "layout": "IPY_MODEL_4a9ecc96cdb44bcfbe5e4c835e8d9cdf",
       "max": 20,
       "style": "IPY_MODEL_b7336dc75efe48d099cc5c333927ca2f",
       "value": 20
      }
     },
     "02577fcd51ea4cdebc80730932cd6db4": {
      "model_module": "@jupyter-widgets/controls",
      "model_module_version": "2.0.0",
      "model_name": "HTMLStyleModel",
      "state": {
       "description_width": "",
       "font_size": null,
       "text_color": null
      }
     },
     "03badf09b0ee4a73bb1887d8e3a42797": {
      "model_module": "@jupyter-widgets/controls",
      "model_module_version": "2.0.0",
      "model_name": "ProgressStyleModel",
      "state": {
       "description_width": ""
      }
     },
     "04285b1b28f34733ada463931a1b208b": {
      "model_module": "@jupyter-widgets/base",
      "model_module_version": "2.0.0",
      "model_name": "LayoutModel",
      "state": {}
     },
     "052a575788e541009cabe01f4ebe4a52": {
      "model_module": "@jupyter-widgets/controls",
      "model_module_version": "2.0.0",
      "model_name": "HTMLModel",
      "state": {
       "layout": "IPY_MODEL_9e14919573be4408910b8e1bfe83b88c",
       "style": "IPY_MODEL_8b237dcbf48948d9a58145d749e45e7f",
       "value": " 0/28 [00:13&lt;?, ?it/s]"
      }
     },
     "062e35db35744c4c85d920c8c71c5feb": {
      "model_module": "@jupyter-widgets/base",
      "model_module_version": "2.0.0",
      "model_name": "LayoutModel",
      "state": {}
     },
     "0658b7c29ed443bd84a18e660fab4a3f": {
      "model_module": "@jupyter-widgets/controls",
      "model_module_version": "2.0.0",
      "model_name": "HBoxModel",
      "state": {
       "children": [
        "IPY_MODEL_a9b7c108ec6c496795528e88d444559f",
        "IPY_MODEL_72d041c4c4d94f8c910dd5423d66967f",
        "IPY_MODEL_ed5383690524497e8fdbdba344294bfa"
       ],
       "layout": "IPY_MODEL_33943bb6905f4ae8a0b7d43a1097c0db"
      }
     },
     "06f007315586401e8a2dd696a80e7498": {
      "model_module": "@jupyter-widgets/controls",
      "model_module_version": "2.0.0",
      "model_name": "HTMLModel",
      "state": {
       "layout": "IPY_MODEL_ebfecad70e01415d976514fc2574115b",
       "style": "IPY_MODEL_1383b78070de4439a83f86193625c7b3",
       "value": "Combo size 2:   0%"
      }
     },
     "08b43998d6fc4f20a5710c45cd898fd0": {
      "model_module": "@jupyter-widgets/controls",
      "model_module_version": "2.0.0",
      "model_name": "ProgressStyleModel",
      "state": {
       "description_width": ""
      }
     },
     "0ac1b63e69914817a868e3d0cf0ed315": {
      "model_module": "@jupyter-widgets/base",
      "model_module_version": "2.0.0",
      "model_name": "LayoutModel",
      "state": {}
     },
     "0c6d196454c44e1688e7002ec9f0a181": {
      "model_module": "@jupyter-widgets/base",
      "model_module_version": "2.0.0",
      "model_name": "LayoutModel",
      "state": {
       "flex": "2"
      }
     },
     "0cdadcd381c74c33a32cb74c9c437a79": {
      "model_module": "@jupyter-widgets/controls",
      "model_module_version": "2.0.0",
      "model_name": "FloatProgressModel",
      "state": {
       "bar_style": "danger",
       "layout": "IPY_MODEL_dfa4c0e084534df99ce11fc1e16ddb09",
       "max": 20,
       "style": "IPY_MODEL_54f8a84176c94701942258e47af66649",
       "value": 4
      }
     },
     "0d161dc811fa49f89e44a32648e67f68": {
      "model_module": "@jupyter-widgets/controls",
      "model_module_version": "2.0.0",
      "model_name": "HTMLStyleModel",
      "state": {
       "description_width": "",
       "font_size": null,
       "text_color": null
      }
     },
     "0d5b7d459f4a4ac9bee5ab60f976480d": {
      "model_module": "@jupyter-widgets/base",
      "model_module_version": "2.0.0",
      "model_name": "LayoutModel",
      "state": {}
     },
     "0d73916a38de4d9b80246757a2682c27": {
      "model_module": "@jupyter-widgets/base",
      "model_module_version": "2.0.0",
      "model_name": "LayoutModel",
      "state": {}
     },
     "0dd0b52982a544b9b90808582934e234": {
      "model_module": "@jupyter-widgets/controls",
      "model_module_version": "2.0.0",
      "model_name": "HTMLModel",
      "state": {
       "layout": "IPY_MODEL_e296de4951314f039768636d2aefe1a4",
       "style": "IPY_MODEL_47731db2f0d14deab022ba3dfe73a669",
       "value": " 20/20 [07:15&lt;00:00, 22.43s/it, Loss=1.23e-5]"
      }
     },
     "0f0bdf02fe1143fbacc5a2b59da88a75": {
      "model_module": "@jupyter-widgets/base",
      "model_module_version": "2.0.0",
      "model_name": "LayoutModel",
      "state": {}
     },
     "0f1c35f87ead4443afe196d54d68d33b": {
      "model_module": "@jupyter-widgets/base",
      "model_module_version": "2.0.0",
      "model_name": "LayoutModel",
      "state": {}
     },
     "103f0a5d98bc4a36a6fde9dde58150bf": {
      "model_module": "@jupyter-widgets/controls",
      "model_module_version": "2.0.0",
      "model_name": "HTMLModel",
      "state": {
       "layout": "IPY_MODEL_8e0c6ec11a984b98ab3a9df090447010",
       "style": "IPY_MODEL_7648acc3b19a4bd99121c1ada5e03af9",
       "value": "Overall Progress:   0%"
      }
     },
     "1041499c49df4198a572d62f46f49e96": {
      "model_module": "@jupyter-widgets/controls",
      "model_module_version": "2.0.0",
      "model_name": "FloatProgressModel",
      "state": {
       "bar_style": "danger",
       "layout": "IPY_MODEL_5500c319617a47c2a93a421acbebfc05",
       "max": 20,
       "style": "IPY_MODEL_b5390f8ce23645d5a66a262a62c61323"
      }
     },
     "11fa49399b20435bbed0676805a2a17e": {
      "model_module": "@jupyter-widgets/controls",
      "model_module_version": "2.0.0",
      "model_name": "ProgressStyleModel",
      "state": {
       "description_width": ""
      }
     },
     "12b9151de25749eb92b95dc5a158e83d": {
      "model_module": "@jupyter-widgets/controls",
      "model_module_version": "2.0.0",
      "model_name": "FloatProgressModel",
      "state": {
       "bar_style": "danger",
       "layout": "IPY_MODEL_22297030aa22434f9ed0ac2b3a4aa1ef",
       "max": 28,
       "style": "IPY_MODEL_8b70ea3cdef54ce999949434bcb5f351"
      }
     },
     "12fb5ac9159a4936a2e6e45f9a120704": {
      "model_module": "@jupyter-widgets/controls",
      "model_module_version": "2.0.0",
      "model_name": "HTMLStyleModel",
      "state": {
       "description_width": "",
       "font_size": null,
       "text_color": null
      }
     },
     "1307d3bd8b2f43b195d9b1e110de16df": {
      "model_module": "@jupyter-widgets/base",
      "model_module_version": "2.0.0",
      "model_name": "LayoutModel",
      "state": {}
     },
     "13800eaf961a4441a4fa1684c38dad94": {
      "model_module": "@jupyter-widgets/base",
      "model_module_version": "2.0.0",
      "model_name": "LayoutModel",
      "state": {
       "display": "inline-flex",
       "flex_flow": "row wrap",
       "width": "100%"
      }
     },
     "1383b78070de4439a83f86193625c7b3": {
      "model_module": "@jupyter-widgets/controls",
      "model_module_version": "2.0.0",
      "model_name": "HTMLStyleModel",
      "state": {
       "description_width": "",
       "font_size": null,
       "text_color": null
      }
     },
     "139d3f5456a34669b729978cc0efce02": {
      "model_module": "@jupyter-widgets/controls",
      "model_module_version": "2.0.0",
      "model_name": "HTMLModel",
      "state": {
       "layout": "IPY_MODEL_562af2c649f34907b0b4300b44004d18",
       "style": "IPY_MODEL_12fb5ac9159a4936a2e6e45f9a120704",
       "value": "Combo size 2:   0%"
      }
     },
     "148ce55b2bc34240b05b5f1975f5e3b6": {
      "model_module": "@jupyter-widgets/controls",
      "model_module_version": "2.0.0",
      "model_name": "HTMLModel",
      "state": {
       "layout": "IPY_MODEL_9d31adab3d6e4e06901b09f90eaf6b53",
       "style": "IPY_MODEL_8e3798473df24af9ab0a6c3efea6016b",
       "value": "Epochs:  20%"
      }
     },
     "14d848afbd554d199a78aba74ae93007": {
      "model_module": "@jupyter-widgets/controls",
      "model_module_version": "2.0.0",
      "model_name": "HBoxModel",
      "state": {
       "children": [
        "IPY_MODEL_50ae65adac6341a9a30ba3a2d90f078b",
        "IPY_MODEL_185e9314a1534d358cdc54533b246090",
        "IPY_MODEL_c65e2e252af7405bbdca9334f724f678"
       ],
       "layout": "IPY_MODEL_3f81269b8eb843e880ddea34c49e132e"
      }
     },
     "1775e62e735c4f938d0ba27a35978e43": {
      "model_module": "@jupyter-widgets/base",
      "model_module_version": "2.0.0",
      "model_name": "LayoutModel",
      "state": {}
     },
     "1844a26e40774dbfb53bfcf476c6f1c3": {
      "model_module": "@jupyter-widgets/base",
      "model_module_version": "2.0.0",
      "model_name": "LayoutModel",
      "state": {}
     },
     "185e9314a1534d358cdc54533b246090": {
      "model_module": "@jupyter-widgets/controls",
      "model_module_version": "2.0.0",
      "model_name": "FloatProgressModel",
      "state": {
       "bar_style": "danger",
       "layout": "IPY_MODEL_4febcd9bba3441bda65d060840989039",
       "max": 20,
       "style": "IPY_MODEL_d8586ae648b04ccb8a891e855157bbc7",
       "value": 8
      }
     },
     "187099e3d019447d9fadfd1dc7527025": {
      "model_module": "@jupyter-widgets/base",
      "model_module_version": "2.0.0",
      "model_name": "LayoutModel",
      "state": {}
     },
     "1877601023d14f7bb35d183c59cbe681": {
      "model_module": "@jupyter-widgets/base",
      "model_module_version": "2.0.0",
      "model_name": "LayoutModel",
      "state": {
       "display": "inline-flex",
       "flex_flow": "row wrap",
       "visibility": "hidden",
       "width": "100%"
      }
     },
     "1ac2ff33067d4a7caf54f474df755f48": {
      "model_module": "@jupyter-widgets/controls",
      "model_module_version": "2.0.0",
      "model_name": "HTMLModel",
      "state": {
       "layout": "IPY_MODEL_8abed9f45f3046fba157a8ee3dee8643",
       "style": "IPY_MODEL_9ad8a412338d4343b444898528127d63",
       "value": " 2/28 [15:04&lt;3:09:47, 437.96s/it]"
      }
     },
     "1b41b571df93444ab61bb6a9f0579334": {
      "model_module": "@jupyter-widgets/base",
      "model_module_version": "2.0.0",
      "model_name": "LayoutModel",
      "state": {}
     },
     "1b49391d42824efba8632b7b5e992c26": {
      "model_module": "@jupyter-widgets/controls",
      "model_module_version": "2.0.0",
      "model_name": "HTMLModel",
      "state": {
       "layout": "IPY_MODEL_29e1810a86894e7da167c6c303b48c77",
       "style": "IPY_MODEL_28f48a80a53141328157d5e93ef3f54d",
       "value": "Combo size 2:   0%"
      }
     },
     "1c0ce5216f154a2aa432d67c0d0d7085": {
      "model_module": "@jupyter-widgets/controls",
      "model_module_version": "2.0.0",
      "model_name": "HTMLStyleModel",
      "state": {
       "description_width": "",
       "font_size": null,
       "text_color": null
      }
     },
     "1e25362722dc43bd938eedd17b2e1beb": {
      "model_module": "@jupyter-widgets/controls",
      "model_module_version": "2.0.0",
      "model_name": "HTMLStyleModel",
      "state": {
       "description_width": "",
       "font_size": null,
       "text_color": null
      }
     },
     "1e9302db4efa4a1e896acda4ec10ddbe": {
      "model_module": "@jupyter-widgets/base",
      "model_module_version": "2.0.0",
      "model_name": "LayoutModel",
      "state": {}
     },
     "1fdf733cf3504b75a49e52389efbd191": {
      "model_module": "@jupyter-widgets/base",
      "model_module_version": "2.0.0",
      "model_name": "LayoutModel",
      "state": {
       "display": "inline-flex",
       "flex_flow": "row wrap",
       "width": "80px"
      }
     },
     "21310639274d4b82988c66c0fecf47ce": {
      "model_module": "@jupyter-widgets/base",
      "model_module_version": "2.0.0",
      "model_name": "LayoutModel",
      "state": {}
     },
     "213dd66944ed45e7b3e551f639570518": {
      "model_module": "@jupyter-widgets/controls",
      "model_module_version": "2.0.0",
      "model_name": "HTMLModel",
      "state": {
       "layout": "IPY_MODEL_d8eb76ef710b45339b9409c92a9ee1bb",
       "style": "IPY_MODEL_4a836b1c10a449a1bcaf442dab5e267e",
       "value": " 1/20 [00:25&lt;06:55, 21.89s/it]"
      }
     },
     "22297030aa22434f9ed0ac2b3a4aa1ef": {
      "model_module": "@jupyter-widgets/base",
      "model_module_version": "2.0.0",
      "model_name": "LayoutModel",
      "state": {
       "flex": "2"
      }
     },
     "238a204b38234f238748474d0ab31b39": {
      "model_module": "@jupyter-widgets/controls",
      "model_module_version": "2.0.0",
      "model_name": "FloatProgressModel",
      "state": {
       "bar_style": "danger",
       "layout": "IPY_MODEL_9690db328117411fa874b98c3133f3c3",
       "max": 20,
       "style": "IPY_MODEL_38b6671a4cd14f05a2a90b83061f9d1a",
       "value": 2
      }
     },
     "23b97fac84ae4bcba93956ed9c8182e1": {
      "model_module": "@jupyter-widgets/controls",
      "model_module_version": "2.0.0",
      "model_name": "HTMLModel",
      "state": {
       "layout": "IPY_MODEL_25d600164bd44b87a7042017848623e6",
       "style": "IPY_MODEL_df8a55bf46ca4af7a264bac13230437a",
       "value": "Epochs:  10%"
      }
     },
     "23e9b98a35f346e38850bc9e8a9ae60b": {
      "model_module": "@jupyter-widgets/controls",
      "model_module_version": "2.0.0",
      "model_name": "HTMLModel",
      "state": {
       "layout": "IPY_MODEL_af8bbb9f2a1f4d4096647d10f1dc5b8d",
       "style": "IPY_MODEL_6719093e781a440cbee28fd46f796df9",
       "value": "Overall Progress:   0%"
      }
     },
     "241aac7c0ec84f72a92a7017cfe54cea": {
      "model_module": "@jupyter-widgets/controls",
      "model_module_version": "2.0.0",
      "model_name": "HTMLModel",
      "state": {
       "layout": "IPY_MODEL_e0777d9e8b2a4a5a95c4450350fcdf68",
       "style": "IPY_MODEL_51f7b783b254436fa9f755e29a0b1d07",
       "value": "Epochs: 100%"
      }
     },
     "24554852e84d49c9955e7d0ef94e3426": {
      "model_module": "@jupyter-widgets/controls",
      "model_module_version": "2.0.0",
      "model_name": "HTMLModel",
      "state": {
       "layout": "IPY_MODEL_f67d87521c7e47d4a232ee56e07e11f7",
       "style": "IPY_MODEL_d10bd2337fbf4a06aa16cde9a08f37fd",
       "value": "Epochs:   0%"
      }
     },
     "25d600164bd44b87a7042017848623e6": {
      "model_module": "@jupyter-widgets/base",
      "model_module_version": "2.0.0",
      "model_name": "LayoutModel",
      "state": {}
     },
     "267fb877c42b46ef9bb71f5c626036fe": {
      "model_module": "@jupyter-widgets/controls",
      "model_module_version": "2.0.0",
      "model_name": "HTMLModel",
      "state": {
       "layout": "IPY_MODEL_db81676336d94cf18a929237217a4485",
       "style": "IPY_MODEL_57dd8318273049c29d1d80840e532c7b",
       "value": " 4/20 [01:16&lt;04:47, 18.00s/it]"
      }
     },
     "27186b2cd3b74edab63d5d5a0ab0ad11": {
      "model_module": "@jupyter-widgets/controls",
      "model_module_version": "2.0.0",
      "model_name": "HTMLStyleModel",
      "state": {
       "description_width": "",
       "font_size": null,
       "text_color": null
      }
     },
     "27efb877b6e043219863cd09eb1a9526": {
      "model_module": "@jupyter-widgets/base",
      "model_module_version": "2.0.0",
      "model_name": "LayoutModel",
      "state": {}
     },
     "28d91b86d25740a19c2006385bcab527": {
      "model_module": "@jupyter-widgets/controls",
      "model_module_version": "2.0.0",
      "model_name": "HTMLStyleModel",
      "state": {
       "description_width": "",
       "font_size": null,
       "text_color": null
      }
     },
     "28f48a80a53141328157d5e93ef3f54d": {
      "model_module": "@jupyter-widgets/controls",
      "model_module_version": "2.0.0",
      "model_name": "HTMLStyleModel",
      "state": {
       "description_width": "",
       "font_size": null,
       "text_color": null
      }
     },
     "29039e4b41c74dc7b6407371886afaf0": {
      "model_module": "@jupyter-widgets/controls",
      "model_module_version": "2.0.0",
      "model_name": "FloatProgressModel",
      "state": {
       "bar_style": "danger",
       "layout": "IPY_MODEL_6a4bbfdd74fd4d6e87a80cb687217690",
       "max": 28,
       "style": "IPY_MODEL_6ec6928fe0c44c9086109c9b5aa62bc7"
      }
     },
     "2908d5456d784814ba4283c683d1f6f9": {
      "model_module": "@jupyter-widgets/controls",
      "model_module_version": "2.0.0",
      "model_name": "ProgressStyleModel",
      "state": {
       "description_width": ""
      }
     },
     "29dc22616ec54cdc81207a25cdf18fda": {
      "model_module": "@jupyter-widgets/controls",
      "model_module_version": "2.0.0",
      "model_name": "HTMLModel",
      "state": {
       "layout": "IPY_MODEL_d2c4bc95df664a0099e4966941e09aa0",
       "style": "IPY_MODEL_3956ff630427488c9c174c415b4608eb",
       "value": " 1/20 [00:27&lt;07:05, 22.39s/it, Loss=0.019]"
      }
     },
     "29e1810a86894e7da167c6c303b48c77": {
      "model_module": "@jupyter-widgets/base",
      "model_module_version": "2.0.0",
      "model_name": "LayoutModel",
      "state": {}
     },
     "2a2f261929a647b4983dc78972daf8c7": {
      "model_module": "@jupyter-widgets/base",
      "model_module_version": "2.0.0",
      "model_name": "LayoutModel",
      "state": {}
     },
     "2b163fe570e04cf4927e17be8711dcf7": {
      "model_module": "@jupyter-widgets/base",
      "model_module_version": "2.0.0",
      "model_name": "LayoutModel",
      "state": {
       "flex": "2"
      }
     },
     "2b6dc639f6024b1c997b812db38a0b75": {
      "model_module": "@jupyter-widgets/controls",
      "model_module_version": "2.0.0",
      "model_name": "HTMLModel",
      "state": {
       "layout": "IPY_MODEL_cb8e2fcfadb943908f370477f4e75c14",
       "style": "IPY_MODEL_57caafd0b13c4e6a995c38cfb8c042e2",
       "value": "Epochs:   5%"
      }
     },
     "2b829c876b1643cb9d1bc777cce667a8": {
      "model_module": "@jupyter-widgets/base",
      "model_module_version": "2.0.0",
      "model_name": "LayoutModel",
      "state": {}
     },
     "2b9e590ddf4c4309b33cd6729221db08": {
      "model_module": "@jupyter-widgets/controls",
      "model_module_version": "2.0.0",
      "model_name": "FloatProgressModel",
      "state": {
       "bar_style": "danger",
       "layout": "IPY_MODEL_96b8886c39f3472dbbe40ce4334576f7",
       "max": 20,
       "style": "IPY_MODEL_53f00211c03948aebd43d46f0991ba86",
       "value": 2
      }
     },
     "2c6663e002624ba9b60d720e06db8f35": {
      "model_module": "@jupyter-widgets/controls",
      "model_module_version": "2.0.0",
      "model_name": "HTMLModel",
      "state": {
       "layout": "IPY_MODEL_b7ed10490817427a828fa36d4825e22f",
       "style": "IPY_MODEL_2d0f01776c504844af2d264b70fe824f",
       "value": "Combo size 2:   4%"
      }
     },
     "2cffb75f62f24b7f8efca813de55ef61": {
      "model_module": "@jupyter-widgets/controls",
      "model_module_version": "2.0.0",
      "model_name": "ProgressStyleModel",
      "state": {
       "description_width": ""
      }
     },
     "2d0f01776c504844af2d264b70fe824f": {
      "model_module": "@jupyter-widgets/controls",
      "model_module_version": "2.0.0",
      "model_name": "HTMLStyleModel",
      "state": {
       "description_width": "",
       "font_size": null,
       "text_color": null
      }
     },
     "2d191a4e2c5c40ea9271f85f7aa28b6b": {
      "model_module": "@jupyter-widgets/base",
      "model_module_version": "2.0.0",
      "model_name": "LayoutModel",
      "state": {
       "flex": "2"
      }
     },
     "2d454ad159ba4bdb8d039ac69745047e": {
      "model_module": "@jupyter-widgets/controls",
      "model_module_version": "2.0.0",
      "model_name": "HBoxModel",
      "state": {
       "children": [
        "IPY_MODEL_2d53de5211d54a89b74c56c1b228c7d6",
        "IPY_MODEL_73a1752a7b874b6ea85e6f4edf185803",
        "IPY_MODEL_1ac2ff33067d4a7caf54f474df755f48"
       ],
       "layout": "IPY_MODEL_6972bb4e78cd49ec93d0da368423b519"
      }
     },
     "2d53de5211d54a89b74c56c1b228c7d6": {
      "model_module": "@jupyter-widgets/controls",
      "model_module_version": "2.0.0",
      "model_name": "HTMLModel",
      "state": {
       "layout": "IPY_MODEL_f16edd94775e4bb0a16efc77cede6b39",
       "style": "IPY_MODEL_a5a7d0db3f614df9a1553feccab7ff7f",
       "value": "Combo size 2:   7%"
      }
     },
     "2f76e95dacd44c8db4f918eaf7dda796": {
      "model_module": "@jupyter-widgets/controls",
      "model_module_version": "2.0.0",
      "model_name": "HTMLStyleModel",
      "state": {
       "description_width": "",
       "font_size": null,
       "text_color": null
      }
     },
     "2fe0f5c31f4244e0b62b142ae02482a7": {
      "model_module": "@jupyter-widgets/controls",
      "model_module_version": "2.0.0",
      "model_name": "HTMLStyleModel",
      "state": {
       "description_width": "",
       "font_size": null,
       "text_color": null
      }
     },
     "30243203f3064a58ade0c84fd0faf070": {
      "model_module": "@jupyter-widgets/controls",
      "model_module_version": "2.0.0",
      "model_name": "HTMLStyleModel",
      "state": {
       "description_width": "",
       "font_size": null,
       "text_color": null
      }
     },
     "30eb73336eea4040a5b53657e00d7ad0": {
      "model_module": "@jupyter-widgets/controls",
      "model_module_version": "2.0.0",
      "model_name": "HTMLStyleModel",
      "state": {
       "description_width": "",
       "font_size": null,
       "text_color": null
      }
     },
     "31b312280e054d69983cf054b2dfc2b7": {
      "model_module": "@jupyter-widgets/base",
      "model_module_version": "2.0.0",
      "model_name": "LayoutModel",
      "state": {
       "flex": "2"
      }
     },
     "3267530d56274889a2ee331dd3f5b601": {
      "model_module": "@jupyter-widgets/controls",
      "model_module_version": "2.0.0",
      "model_name": "HTMLModel",
      "state": {
       "layout": "IPY_MODEL_1e9302db4efa4a1e896acda4ec10ddbe",
       "style": "IPY_MODEL_d366e70990c44711b2e3913c982dd794",
       "value": " 1/28 [06:11&lt;2:42:16, 360.63s/it]"
      }
     },
     "333d78d66d464b3f9dfc17e2159733e6": {
      "model_module": "@jupyter-widgets/base",
      "model_module_version": "2.0.0",
      "model_name": "LayoutModel",
      "state": {}
     },
     "3345602d83dc4365840f30d3e61b8b34": {
      "model_module": "@jupyter-widgets/controls",
      "model_module_version": "2.0.0",
      "model_name": "HBoxModel",
      "state": {
       "children": [
        "IPY_MODEL_3a1f68622066406390c0c2d13a98e921",
        "IPY_MODEL_c2b80b58ded147ff85572b8ad5e494be",
        "IPY_MODEL_4951d19eedbd464db24779678af4244a"
       ],
       "layout": "IPY_MODEL_062e35db35744c4c85d920c8c71c5feb"
      }
     },
     "33943bb6905f4ae8a0b7d43a1097c0db": {
      "model_module": "@jupyter-widgets/base",
      "model_module_version": "2.0.0",
      "model_name": "LayoutModel",
      "state": {}
     },
     "33d6058851ef43fe9ffc38fa3c91c053": {
      "model_module": "@jupyter-widgets/base",
      "model_module_version": "2.0.0",
      "model_name": "LayoutModel",
      "state": {}
     },
     "33ef9d6af2264489aedfc7c0859142d2": {
      "model_module": "@jupyter-widgets/controls",
      "model_module_version": "2.0.0",
      "model_name": "HTMLModel",
      "state": {
       "layout": "IPY_MODEL_60f6162b12f34c999aa6e28b44b52912",
       "style": "IPY_MODEL_4dfd8de0f58c40e78cd1f6d8dacbe14d",
       "value": "Combo size 2:   0%"
      }
     },
     "33f365ded14f4cb9801b7d92a735a456": {
      "model_module": "@jupyter-widgets/base",
      "model_module_version": "2.0.0",
      "model_name": "LayoutModel",
      "state": {
       "flex": "2"
      }
     },
     "3443950708b4400aaae5410afcc7fea1": {
      "model_module": "@jupyter-widgets/base",
      "model_module_version": "2.0.0",
      "model_name": "LayoutModel",
      "state": {
       "flex": "2"
      }
     },
     "36086f484f6040c68b9f54178aa4a22b": {
      "model_module": "@jupyter-widgets/controls",
      "model_module_version": "2.0.0",
      "model_name": "HTMLStyleModel",
      "state": {
       "description_width": "",
       "font_size": null,
       "text_color": null
      }
     },
     "36b6324b74004a4abc22322de2945401": {
      "model_module": "@jupyter-widgets/controls",
      "model_module_version": "2.0.0",
      "model_name": "HTMLStyleModel",
      "state": {
       "description_width": "",
       "font_size": null,
       "text_color": null
      }
     },
     "379f707fd85643ec8307195f592fe40f": {
      "model_module": "@jupyter-widgets/base",
      "model_module_version": "2.0.0",
      "model_name": "LayoutModel",
      "state": {}
     },
     "385c0f195c9a4f3886c3c8e67c94c250": {
      "model_module": "@jupyter-widgets/base",
      "model_module_version": "2.0.0",
      "model_name": "LayoutModel",
      "state": {}
     },
     "38b6671a4cd14f05a2a90b83061f9d1a": {
      "model_module": "@jupyter-widgets/controls",
      "model_module_version": "2.0.0",
      "model_name": "ProgressStyleModel",
      "state": {
       "description_width": ""
      }
     },
     "3956ff630427488c9c174c415b4608eb": {
      "model_module": "@jupyter-widgets/controls",
      "model_module_version": "2.0.0",
      "model_name": "HTMLStyleModel",
      "state": {
       "description_width": "",
       "font_size": null,
       "text_color": null
      }
     },
     "3a1f68622066406390c0c2d13a98e921": {
      "model_module": "@jupyter-widgets/controls",
      "model_module_version": "2.0.0",
      "model_name": "HTMLModel",
      "state": {
       "layout": "IPY_MODEL_333d78d66d464b3f9dfc17e2159733e6",
       "style": "IPY_MODEL_1e25362722dc43bd938eedd17b2e1beb",
       "value": "Epochs:   0%"
      }
     },
     "3a6db4d012294d0abace8d93b68e77f4": {
      "model_module": "@jupyter-widgets/controls",
      "model_module_version": "2.0.0",
      "model_name": "ProgressStyleModel",
      "state": {
       "description_width": ""
      }
     },
     "3b2f503a701143da9d38394db48f0541": {
      "model_module": "@jupyter-widgets/controls",
      "model_module_version": "2.0.0",
      "model_name": "ProgressStyleModel",
      "state": {
       "description_width": ""
      }
     },
     "3b6fc49050ba44d482d9ad3bcd001229": {
      "model_module": "@jupyter-widgets/controls",
      "model_module_version": "2.0.0",
      "model_name": "HBoxModel",
      "state": {
       "children": [
        "IPY_MODEL_23b97fac84ae4bcba93956ed9c8182e1",
        "IPY_MODEL_238a204b38234f238748474d0ab31b39",
        "IPY_MODEL_f80713864f9a4ab2955540094de71dea"
       ],
       "layout": "IPY_MODEL_d6581281ce714bfb84d886689fa459b5"
      }
     },
     "3c693e91ff564727ae100cace99386fb": {
      "model_module": "@jupyter-widgets/controls",
      "model_module_version": "2.0.0",
      "model_name": "HTMLStyleModel",
      "state": {
       "description_width": "",
       "font_size": null,
       "text_color": null
      }
     },
     "3d4272304356484cbab93141449b6876": {
      "model_module": "@jupyter-widgets/controls",
      "model_module_version": "2.0.0",
      "model_name": "ProgressStyleModel",
      "state": {
       "description_width": ""
      }
     },
     "3d44e4e6eb9e4fb991d79c451da21062": {
      "model_module": "@jupyter-widgets/base",
      "model_module_version": "2.0.0",
      "model_name": "LayoutModel",
      "state": {}
     },
     "3eba0f1fb4444c61b15a6b9fbeff5909": {
      "model_module": "@jupyter-widgets/controls",
      "model_module_version": "2.0.0",
      "model_name": "FloatProgressModel",
      "state": {
       "bar_style": "danger",
       "layout": "IPY_MODEL_0c6d196454c44e1688e7002ec9f0a181",
       "max": 20,
       "style": "IPY_MODEL_08b43998d6fc4f20a5710c45cd898fd0",
       "value": 1
      }
     },
     "3f81269b8eb843e880ddea34c49e132e": {
      "model_module": "@jupyter-widgets/base",
      "model_module_version": "2.0.0",
      "model_name": "LayoutModel",
      "state": {}
     },
     "3fd8c3afd3c54a33bc51d8831d7075da": {
      "model_module": "@jupyter-widgets/controls",
      "model_module_version": "2.0.0",
      "model_name": "HTMLModel",
      "state": {
       "layout": "IPY_MODEL_5ef4bbc2a09d43f9a48a4f712b8eba52",
       "style": "IPY_MODEL_b1d2e02630134d14a3b18ad81ada12bb",
       "value": " 20/20 [07:22&lt;00:00, 22.29s/it]"
      }
     },
     "40742ca302394ebea3d67aaa62482aae": {
      "model_module": "@jupyter-widgets/controls",
      "model_module_version": "2.0.0",
      "model_name": "FloatProgressModel",
      "state": {
       "bar_style": "danger",
       "layout": "IPY_MODEL_27efb877b6e043219863cd09eb1a9526",
       "max": 20,
       "style": "IPY_MODEL_78cdeb9e76734654b207cee57f8b9738",
       "value": 1
      }
     },
     "40c66c52494442d89a9f388795d314c7": {
      "model_module": "@jupyter-widgets/controls",
      "model_module_version": "2.0.0",
      "model_name": "HTMLModel",
      "state": {
       "layout": "IPY_MODEL_731ead8881934fca8cf709ec1ede488d",
       "style": "IPY_MODEL_30243203f3064a58ade0c84fd0faf070",
       "value": " 20/20 [07:11&lt;00:00, 21.72s/it]"
      }
     },
     "40f6d724ada345ffab1545adbe7d23ba": {
      "model_module": "@jupyter-widgets/controls",
      "model_module_version": "2.0.0",
      "model_name": "HTMLModel",
      "state": {
       "layout": "IPY_MODEL_7e6a4b0e214f49cca97abb3a8af8ce50",
       "style": "IPY_MODEL_bea9d4ad832b44c99f0bdb805430458e",
       "value": " 0/28 [01:15&lt;?, ?it/s]"
      }
     },
     "42181a0f5e0347d9b934debb5a88cc1e": {
      "model_module": "@jupyter-widgets/base",
      "model_module_version": "2.0.0",
      "model_name": "LayoutModel",
      "state": {}
     },
     "42ee0dd89c7241ac9755e2084091baff": {
      "model_module": "@jupyter-widgets/base",
      "model_module_version": "2.0.0",
      "model_name": "LayoutModel",
      "state": {
       "visibility": "hidden"
      }
     },
     "4301b80a00c9456f946b9e6e311dec5e": {
      "model_module": "@jupyter-widgets/base",
      "model_module_version": "2.0.0",
      "model_name": "LayoutModel",
      "state": {
       "visibility": "hidden"
      }
     },
     "452e97dcb78f413d8afc9ae7374d492b": {
      "model_module": "@jupyter-widgets/controls",
      "model_module_version": "2.0.0",
      "model_name": "ProgressStyleModel",
      "state": {
       "description_width": ""
      }
     },
     "465a0da59b834fe885b4b9d23041e52e": {
      "model_module": "@jupyter-widgets/controls",
      "model_module_version": "2.0.0",
      "model_name": "ProgressStyleModel",
      "state": {
       "description_width": ""
      }
     },
     "47731db2f0d14deab022ba3dfe73a669": {
      "model_module": "@jupyter-widgets/controls",
      "model_module_version": "2.0.0",
      "model_name": "HTMLStyleModel",
      "state": {
       "description_width": "",
       "font_size": null,
       "text_color": null
      }
     },
     "478d27b316b147d0a0fc9974bc17d728": {
      "model_module": "@jupyter-widgets/controls",
      "model_module_version": "2.0.0",
      "model_name": "HTMLStyleModel",
      "state": {
       "description_width": "",
       "font_size": null,
       "text_color": null
      }
     },
     "47d3126c46b74387a25bb81454e55dfe": {
      "model_module": "@jupyter-widgets/controls",
      "model_module_version": "2.0.0",
      "model_name": "ProgressStyleModel",
      "state": {
       "description_width": ""
      }
     },
     "47e6ab1a92cb417d99037dd545496ad7": {
      "model_module": "@jupyter-widgets/controls",
      "model_module_version": "2.0.0",
      "model_name": "FloatProgressModel",
      "state": {
       "bar_style": "danger",
       "layout": "IPY_MODEL_f80c71c4e92d414f98b5b241abf38b23",
       "max": 28,
       "style": "IPY_MODEL_b07f57cdf0c84be99a1ef8dfe624a72f"
      }
     },
     "4872d3823b1a4e3fa3a391cc36ddc6ef": {
      "model_module": "@jupyter-widgets/controls",
      "model_module_version": "2.0.0",
      "model_name": "HBoxModel",
      "state": {
       "children": [
        "IPY_MODEL_103f0a5d98bc4a36a6fde9dde58150bf",
        "IPY_MODEL_99a50de07f9b4558bea11871f05fbe78",
        "IPY_MODEL_f998e6508b6d49b88201908d9bc8c8d2"
       ],
       "layout": "IPY_MODEL_be0582dc7fce4be68b5d0a4f25ab6b35"
      }
     },
     "4951d19eedbd464db24779678af4244a": {
      "model_module": "@jupyter-widgets/controls",
      "model_module_version": "2.0.0",
      "model_name": "HTMLModel",
      "state": {
       "layout": "IPY_MODEL_2b829c876b1643cb9d1bc777cce667a8",
       "style": "IPY_MODEL_c4b8552ee7e348528cae9c5eb6ee1553",
       "value": " 0/20 [00:02&lt;?, ?it/s]"
      }
     },
     "4a836b1c10a449a1bcaf442dab5e267e": {
      "model_module": "@jupyter-widgets/controls",
      "model_module_version": "2.0.0",
      "model_name": "HTMLStyleModel",
      "state": {
       "description_width": "",
       "font_size": null,
       "text_color": null
      }
     },
     "4a9ecc96cdb44bcfbe5e4c835e8d9cdf": {
      "model_module": "@jupyter-widgets/base",
      "model_module_version": "2.0.0",
      "model_name": "LayoutModel",
      "state": {}
     },
     "4ad6ef61c67542fe8bc6d28e6ec0cbc2": {
      "model_module": "@jupyter-widgets/controls",
      "model_module_version": "2.0.0",
      "model_name": "HTMLStyleModel",
      "state": {
       "description_width": "",
       "font_size": null,
       "text_color": null
      }
     },
     "4c58b97424804e938185f6640864bdd3": {
      "model_module": "@jupyter-widgets/controls",
      "model_module_version": "2.0.0",
      "model_name": "HBoxModel",
      "state": {
       "children": [
        "IPY_MODEL_06f007315586401e8a2dd696a80e7498",
        "IPY_MODEL_869694f81c1e4eeea3a9962c0a967ffb",
        "IPY_MODEL_aba7cbad34af4b2c9e7cda96b269857d"
       ],
       "layout": "IPY_MODEL_c3c6167e7fb84f8f9189b9c63b3e8b65"
      }
     },
     "4d52e14961dd4917b6e8f1315ba0e960": {
      "model_module": "@jupyter-widgets/controls",
      "model_module_version": "2.0.0",
      "model_name": "HBoxModel",
      "state": {
       "children": [
        "IPY_MODEL_148ce55b2bc34240b05b5f1975f5e3b6",
        "IPY_MODEL_0cdadcd381c74c33a32cb74c9c437a79",
        "IPY_MODEL_267fb877c42b46ef9bb71f5c626036fe"
       ],
       "layout": "IPY_MODEL_f567427369c94aa5ab328f435aae8388"
      }
     },
     "4d56aab56a0f48718ceb37c322aee0bb": {
      "model_module": "@jupyter-widgets/base",
      "model_module_version": "2.0.0",
      "model_name": "LayoutModel",
      "state": {}
     },
     "4dfd8de0f58c40e78cd1f6d8dacbe14d": {
      "model_module": "@jupyter-widgets/controls",
      "model_module_version": "2.0.0",
      "model_name": "HTMLStyleModel",
      "state": {
       "description_width": "",
       "font_size": null,
       "text_color": null
      }
     },
     "4e8555e94641411095664fdde8cebd2f": {
      "model_module": "@jupyter-widgets/controls",
      "model_module_version": "2.0.0",
      "model_name": "HTMLModel",
      "state": {
       "layout": "IPY_MODEL_723a9a44810b4d09a2b2795d3e37d3e4",
       "style": "IPY_MODEL_c163a45f00734b6db0004453fc772566",
       "value": " 0/28 [01:33&lt;?, ?it/s]"
      }
     },
     "4ebc91c2c9e54a55b2e1970a1b750dcf": {
      "model_module": "@jupyter-widgets/base",
      "model_module_version": "2.0.0",
      "model_name": "LayoutModel",
      "state": {}
     },
     "4f20c733400f480f89f5cccfe4b0ac8b": {
      "model_module": "@jupyter-widgets/base",
      "model_module_version": "2.0.0",
      "model_name": "LayoutModel",
      "state": {}
     },
     "4febcd9bba3441bda65d060840989039": {
      "model_module": "@jupyter-widgets/base",
      "model_module_version": "2.0.0",
      "model_name": "LayoutModel",
      "state": {}
     },
     "50ae65adac6341a9a30ba3a2d90f078b": {
      "model_module": "@jupyter-widgets/controls",
      "model_module_version": "2.0.0",
      "model_name": "HTMLModel",
      "state": {
       "layout": "IPY_MODEL_ae0f008f491e46b18b851b4f01a7ef74",
       "style": "IPY_MODEL_8e4dcd6caaba401cb6d007d87a0abf59",
       "value": "Epochs:  40%"
      }
     },
     "51f7b783b254436fa9f755e29a0b1d07": {
      "model_module": "@jupyter-widgets/controls",
      "model_module_version": "2.0.0",
      "model_name": "HTMLStyleModel",
      "state": {
       "description_width": "",
       "font_size": null,
       "text_color": null
      }
     },
     "5204340caf204b23a270b33bd333fbaf": {
      "model_module": "@jupyter-widgets/controls",
      "model_module_version": "2.0.0",
      "model_name": "HTMLStyleModel",
      "state": {
       "description_width": "",
       "font_size": null,
       "text_color": null
      }
     },
     "5264d1e36749414e85cca56852fc9348": {
      "model_module": "@jupyter-widgets/controls",
      "model_module_version": "2.0.0",
      "model_name": "FloatProgressModel",
      "state": {
       "bar_style": "danger",
       "layout": "IPY_MODEL_3443950708b4400aaae5410afcc7fea1",
       "max": 247,
       "style": "IPY_MODEL_600a94f159cf4344a5869faba1bab880"
      }
     },
     "53adb4e2a72241a690c87d3f587e62d1": {
      "model_module": "@jupyter-widgets/controls",
      "model_module_version": "2.0.0",
      "model_name": "HTMLStyleModel",
      "state": {
       "description_width": "",
       "font_size": null,
       "text_color": null
      }
     },
     "53f00211c03948aebd43d46f0991ba86": {
      "model_module": "@jupyter-widgets/controls",
      "model_module_version": "2.0.0",
      "model_name": "ProgressStyleModel",
      "state": {
       "description_width": ""
      }
     },
     "54764a00678a4b7bb07693558f6cf216": {
      "model_module": "@jupyter-widgets/base",
      "model_module_version": "2.0.0",
      "model_name": "LayoutModel",
      "state": {}
     },
     "54f8a84176c94701942258e47af66649": {
      "model_module": "@jupyter-widgets/controls",
      "model_module_version": "2.0.0",
      "model_name": "ProgressStyleModel",
      "state": {
       "description_width": ""
      }
     },
     "5500c319617a47c2a93a421acbebfc05": {
      "model_module": "@jupyter-widgets/base",
      "model_module_version": "2.0.0",
      "model_name": "LayoutModel",
      "state": {
       "flex": "2"
      }
     },
     "562af2c649f34907b0b4300b44004d18": {
      "model_module": "@jupyter-widgets/base",
      "model_module_version": "2.0.0",
      "model_name": "LayoutModel",
      "state": {}
     },
     "56f6014b2c7c4159a41f68f352acdacc": {
      "model_module": "@jupyter-widgets/base",
      "model_module_version": "2.0.0",
      "model_name": "LayoutModel",
      "state": {}
     },
     "57caafd0b13c4e6a995c38cfb8c042e2": {
      "model_module": "@jupyter-widgets/controls",
      "model_module_version": "2.0.0",
      "model_name": "HTMLStyleModel",
      "state": {
       "description_width": "",
       "font_size": null,
       "text_color": null
      }
     },
     "57dd8318273049c29d1d80840e532c7b": {
      "model_module": "@jupyter-widgets/controls",
      "model_module_version": "2.0.0",
      "model_name": "HTMLStyleModel",
      "state": {
       "description_width": "",
       "font_size": null,
       "text_color": null
      }
     },
     "57e8117c2f7a4405a8a8657ff8ca6a0c": {
      "model_module": "@jupyter-widgets/controls",
      "model_module_version": "2.0.0",
      "model_name": "HTMLStyleModel",
      "state": {
       "description_width": "",
       "font_size": null,
       "text_color": null
      }
     },
     "5951d5638b2141c7995107ae3cd21163": {
      "model_module": "@jupyter-widgets/base",
      "model_module_version": "2.0.0",
      "model_name": "LayoutModel",
      "state": {
       "flex": "2"
      }
     },
     "5ab5fa44248642f9b25f2292ed0ce2a0": {
      "model_module": "@jupyter-widgets/controls",
      "model_module_version": "2.0.0",
      "model_name": "HBoxModel",
      "state": {
       "children": [
        "IPY_MODEL_23e9b98a35f346e38850bc9e8a9ae60b",
        "IPY_MODEL_5264d1e36749414e85cca56852fc9348",
        "IPY_MODEL_f4337af894df466c9fe77b899f01ddc0"
       ],
       "layout": "IPY_MODEL_eb3c567dfa2e43c586df115bc8107a63"
      }
     },
     "5bd4fb1bc41b4b6b823866bbc3d36f82": {
      "model_module": "@jupyter-widgets/base",
      "model_module_version": "2.0.0",
      "model_name": "LayoutModel",
      "state": {}
     },
     "5c506200d0c947b891a76660c251c472": {
      "model_module": "@jupyter-widgets/controls",
      "model_module_version": "2.0.0",
      "model_name": "HBoxModel",
      "state": {
       "children": [
        "IPY_MODEL_24554852e84d49c9955e7d0ef94e3426",
        "IPY_MODEL_1041499c49df4198a572d62f46f49e96",
        "IPY_MODEL_6a0bab80fdf54ed4b6ac0c603e5d38bb"
       ],
       "layout": "IPY_MODEL_1fdf733cf3504b75a49e52389efbd191"
      }
     },
     "5d42ba67d4704ca0b6b12d11162e2994": {
      "model_module": "@jupyter-widgets/base",
      "model_module_version": "2.0.0",
      "model_name": "LayoutModel",
      "state": {
       "display": "inline-flex",
       "flex_flow": "row wrap",
       "width": "100%"
      }
     },
     "5d8a9e15c78e49f7af29a581e0e15299": {
      "model_module": "@jupyter-widgets/base",
      "model_module_version": "2.0.0",
      "model_name": "LayoutModel",
      "state": {}
     },
     "5d8ae2d05dc14f8da182174ee3e319d8": {
      "model_module": "@jupyter-widgets/controls",
      "model_module_version": "2.0.0",
      "model_name": "HTMLModel",
      "state": {
       "layout": "IPY_MODEL_8c19f9c420e94ae1998d92a93eb78c39",
       "style": "IPY_MODEL_27186b2cd3b74edab63d5d5a0ab0ad11",
       "value": " 0/28 [06:47&lt;?, ?it/s]"
      }
     },
     "5df68415210049d686923447f0a5d914": {
      "model_module": "@jupyter-widgets/base",
      "model_module_version": "2.0.0",
      "model_name": "LayoutModel",
      "state": {}
     },
     "5e24af1f1f2b402f99f9c713dd746923": {
      "model_module": "@jupyter-widgets/base",
      "model_module_version": "2.0.0",
      "model_name": "LayoutModel",
      "state": {}
     },
     "5ef4bbc2a09d43f9a48a4f712b8eba52": {
      "model_module": "@jupyter-widgets/base",
      "model_module_version": "2.0.0",
      "model_name": "LayoutModel",
      "state": {}
     },
     "600a94f159cf4344a5869faba1bab880": {
      "model_module": "@jupyter-widgets/controls",
      "model_module_version": "2.0.0",
      "model_name": "ProgressStyleModel",
      "state": {
       "description_width": ""
      }
     },
     "6015abb2749e4d0892fdbbd806d8bf2a": {
      "model_module": "@jupyter-widgets/base",
      "model_module_version": "2.0.0",
      "model_name": "LayoutModel",
      "state": {
       "flex": "2"
      }
     },
     "60f6162b12f34c999aa6e28b44b52912": {
      "model_module": "@jupyter-widgets/base",
      "model_module_version": "2.0.0",
      "model_name": "LayoutModel",
      "state": {}
     },
     "62f793cae7cc4caaa0378b1724a13933": {
      "model_module": "@jupyter-widgets/controls",
      "model_module_version": "2.0.0",
      "model_name": "FloatProgressModel",
      "state": {
       "bar_style": "danger",
       "layout": "IPY_MODEL_84772ffa3ab348888883f5d235779397",
       "max": 28,
       "style": "IPY_MODEL_e00f373171c1453e8398eb1ced4125f2"
      }
     },
     "63921d99354043e99d57e2a5b790a216": {
      "model_module": "@jupyter-widgets/base",
      "model_module_version": "2.0.0",
      "model_name": "LayoutModel",
      "state": {}
     },
     "656fcaa4520c497eaab50287779b536c": {
      "model_module": "@jupyter-widgets/base",
      "model_module_version": "2.0.0",
      "model_name": "LayoutModel",
      "state": {}
     },
     "658d1e396fc74c5597ff70f3f349e9cc": {
      "model_module": "@jupyter-widgets/controls",
      "model_module_version": "2.0.0",
      "model_name": "HTMLModel",
      "state": {
       "layout": "IPY_MODEL_1844a26e40774dbfb53bfcf476c6f1c3",
       "style": "IPY_MODEL_aae4a3c980234929a2e6bd8af1cfff99",
       "value": " 0/28 [00:07&lt;?, ?it/s]"
      }
     },
     "6719093e781a440cbee28fd46f796df9": {
      "model_module": "@jupyter-widgets/controls",
      "model_module_version": "2.0.0",
      "model_name": "HTMLStyleModel",
      "state": {
       "description_width": "",
       "font_size": null,
       "text_color": null
      }
     },
     "67560fc173444c59a4cb7dd711e252de": {
      "model_module": "@jupyter-widgets/controls",
      "model_module_version": "2.0.0",
      "model_name": "HTMLStyleModel",
      "state": {
       "description_width": "",
       "font_size": null,
       "text_color": null
      }
     },
     "6883b3a0347e4104b851442d1c7d10dc": {
      "model_module": "@jupyter-widgets/controls",
      "model_module_version": "2.0.0",
      "model_name": "HTMLStyleModel",
      "state": {
       "description_width": "",
       "font_size": null,
       "text_color": null
      }
     },
     "68b746968abf426eb44a2fc62e0c9940": {
      "model_module": "@jupyter-widgets/controls",
      "model_module_version": "2.0.0",
      "model_name": "ProgressStyleModel",
      "state": {
       "description_width": ""
      }
     },
     "6972bb4e78cd49ec93d0da368423b519": {
      "model_module": "@jupyter-widgets/base",
      "model_module_version": "2.0.0",
      "model_name": "LayoutModel",
      "state": {
       "display": "inline-flex",
       "flex_flow": "row wrap",
       "width": "100%"
      }
     },
     "6a0bab80fdf54ed4b6ac0c603e5d38bb": {
      "model_module": "@jupyter-widgets/controls",
      "model_module_version": "2.0.0",
      "model_name": "HTMLModel",
      "state": {
       "layout": "IPY_MODEL_4f20c733400f480f89f5cccfe4b0ac8b",
       "style": "IPY_MODEL_937d0f0845bb4781b1f0f66e34433a58",
       "value": " 0/20 [00:13&lt;?, ?it/s]"
      }
     },
     "6a4bbfdd74fd4d6e87a80cb687217690": {
      "model_module": "@jupyter-widgets/base",
      "model_module_version": "2.0.0",
      "model_name": "LayoutModel",
      "state": {}
     },
     "6bea5ce17b1b45e7a124dd3b9078e8ca": {
      "model_module": "@jupyter-widgets/base",
      "model_module_version": "2.0.0",
      "model_name": "LayoutModel",
      "state": {}
     },
     "6cd0aa77f1044010b1fa4900dc19c7bd": {
      "model_module": "@jupyter-widgets/controls",
      "model_module_version": "2.0.0",
      "model_name": "HTMLStyleModel",
      "state": {
       "description_width": "",
       "font_size": null,
       "text_color": null
      }
     },
     "6dbf08e4e8ed4f80b5e6a0e30185efde": {
      "model_module": "@jupyter-widgets/base",
      "model_module_version": "2.0.0",
      "model_name": "LayoutModel",
      "state": {}
     },
     "6e2b107cbc16430a955a2e4ce7a6e874": {
      "model_module": "@jupyter-widgets/controls",
      "model_module_version": "2.0.0",
      "model_name": "HTMLStyleModel",
      "state": {
       "description_width": "",
       "font_size": null,
       "text_color": null
      }
     },
     "6ec6928fe0c44c9086109c9b5aa62bc7": {
      "model_module": "@jupyter-widgets/controls",
      "model_module_version": "2.0.0",
      "model_name": "ProgressStyleModel",
      "state": {
       "description_width": ""
      }
     },
     "701d6125cdc84ae2893b01084250b9c1": {
      "model_module": "@jupyter-widgets/controls",
      "model_module_version": "2.0.0",
      "model_name": "HTMLModel",
      "state": {
       "layout": "IPY_MODEL_4d56aab56a0f48718ceb37c322aee0bb",
       "style": "IPY_MODEL_1c0ce5216f154a2aa432d67c0d0d7085",
       "value": " 0/20 [00:07&lt;?, ?it/s]"
      }
     },
     "723a9a44810b4d09a2b2795d3e37d3e4": {
      "model_module": "@jupyter-widgets/base",
      "model_module_version": "2.0.0",
      "model_name": "LayoutModel",
      "state": {}
     },
     "7265202f39f6493caec099bb48506edd": {
      "model_module": "@jupyter-widgets/base",
      "model_module_version": "2.0.0",
      "model_name": "LayoutModel",
      "state": {}
     },
     "727b1ca9bfcd46298c60996483494e95": {
      "model_module": "@jupyter-widgets/controls",
      "model_module_version": "2.0.0",
      "model_name": "FloatProgressModel",
      "state": {
       "bar_style": "danger",
       "layout": "IPY_MODEL_e692e866407d47f88ebcdb9a8987bfde",
       "max": 28,
       "style": "IPY_MODEL_452e97dcb78f413d8afc9ae7374d492b"
      }
     },
     "72d041c4c4d94f8c910dd5423d66967f": {
      "model_module": "@jupyter-widgets/controls",
      "model_module_version": "2.0.0",
      "model_name": "FloatProgressModel",
      "state": {
       "bar_style": "danger",
       "layout": "IPY_MODEL_a033989734a6417db8b8be3f020b02ca",
       "max": 20,
       "style": "IPY_MODEL_ed33dc17f626486395a8eaa30ec10322",
       "value": 18
      }
     },
     "731ead8881934fca8cf709ec1ede488d": {
      "model_module": "@jupyter-widgets/base",
      "model_module_version": "2.0.0",
      "model_name": "LayoutModel",
      "state": {}
     },
     "732b570de3134f66b5fd8fe5add2eb71": {
      "model_module": "@jupyter-widgets/base",
      "model_module_version": "2.0.0",
      "model_name": "LayoutModel",
      "state": {}
     },
     "73a1752a7b874b6ea85e6f4edf185803": {
      "model_module": "@jupyter-widgets/controls",
      "model_module_version": "2.0.0",
      "model_name": "FloatProgressModel",
      "state": {
       "bar_style": "danger",
       "layout": "IPY_MODEL_6015abb2749e4d0892fdbbd806d8bf2a",
       "max": 28,
       "style": "IPY_MODEL_2908d5456d784814ba4283c683d1f6f9",
       "value": 2
      }
     },
     "74c5cba44228494e948742a15e22254a": {
      "model_module": "@jupyter-widgets/controls",
      "model_module_version": "2.0.0",
      "model_name": "FloatProgressModel",
      "state": {
       "bar_style": "danger",
       "layout": "IPY_MODEL_56f6014b2c7c4159a41f68f352acdacc",
       "max": 28,
       "style": "IPY_MODEL_68b746968abf426eb44a2fc62e0c9940",
       "value": 1
      }
     },
     "7648acc3b19a4bd99121c1ada5e03af9": {
      "model_module": "@jupyter-widgets/controls",
      "model_module_version": "2.0.0",
      "model_name": "HTMLStyleModel",
      "state": {
       "description_width": "",
       "font_size": null,
       "text_color": null
      }
     },
     "78ae7a200f0545d5a1645408de86ac82": {
      "model_module": "@jupyter-widgets/base",
      "model_module_version": "2.0.0",
      "model_name": "LayoutModel",
      "state": {
       "visibility": "hidden"
      }
     },
     "78cdeb9e76734654b207cee57f8b9738": {
      "model_module": "@jupyter-widgets/controls",
      "model_module_version": "2.0.0",
      "model_name": "ProgressStyleModel",
      "state": {
       "description_width": ""
      }
     },
     "794594565c38454480ab2781ead34663": {
      "model_module": "@jupyter-widgets/controls",
      "model_module_version": "2.0.0",
      "model_name": "HTMLModel",
      "state": {
       "layout": "IPY_MODEL_eb34830130b044d086cd77da1edb9e5e",
       "style": "IPY_MODEL_57e8117c2f7a4405a8a8657ff8ca6a0c",
       "value": " 0/28 [02:56&lt;?, ?it/s]"
      }
     },
     "7de5a1fae91e4b00bf33e0487e7efcf0": {
      "model_module": "@jupyter-widgets/base",
      "model_module_version": "2.0.0",
      "model_name": "LayoutModel",
      "state": {}
     },
     "7e3b87116e7b4d1b9bbf0aaec0052c1d": {
      "model_module": "@jupyter-widgets/base",
      "model_module_version": "2.0.0",
      "model_name": "LayoutModel",
      "state": {}
     },
     "7e6a4b0e214f49cca97abb3a8af8ce50": {
      "model_module": "@jupyter-widgets/base",
      "model_module_version": "2.0.0",
      "model_name": "LayoutModel",
      "state": {}
     },
     "7ed4392ca27745ceb2b5493f6382dc95": {
      "model_module": "@jupyter-widgets/controls",
      "model_module_version": "2.0.0",
      "model_name": "HTMLModel",
      "state": {
       "layout": "IPY_MODEL_97c347fab77f4845af4bff57d7841d9c",
       "style": "IPY_MODEL_b0e6ee6d3e1c4fc4a52ac22a3035f8a2",
       "value": "Combo size 2:   0%"
      }
     },
     "7f657ec8a2f14f4096002115763d6ff1": {
      "model_module": "@jupyter-widgets/controls",
      "model_module_version": "2.0.0",
      "model_name": "HBoxModel",
      "state": {
       "children": [
        "IPY_MODEL_f7b4a8dfaf72451eb1ed5a0286f11433",
        "IPY_MODEL_29039e4b41c74dc7b6407371886afaf0",
        "IPY_MODEL_40f6d724ada345ffab1545adbe7d23ba"
       ],
       "layout": "IPY_MODEL_21310639274d4b82988c66c0fecf47ce"
      }
     },
     "7fa3c51ce87e4cf8b151fb98cb5c03e6": {
      "model_module": "@jupyter-widgets/controls",
      "model_module_version": "2.0.0",
      "model_name": "HTMLModel",
      "state": {
       "layout": "IPY_MODEL_2a2f261929a647b4983dc78972daf8c7",
       "style": "IPY_MODEL_964f2108415e4bb7ab0566a4c2f42478",
       "value": " 0/28 [00:50&lt;?, ?it/s]"
      }
     },
     "7fbcd100c0174853b7cba342f8b1ece8": {
      "model_module": "@jupyter-widgets/controls",
      "model_module_version": "2.0.0",
      "model_name": "HTMLStyleModel",
      "state": {
       "description_width": "",
       "font_size": null,
       "text_color": null
      }
     },
     "811d3f568fff46c3a37d892c829a7362": {
      "model_module": "@jupyter-widgets/controls",
      "model_module_version": "2.0.0",
      "model_name": "HTMLModel",
      "state": {
       "layout": "IPY_MODEL_732b570de3134f66b5fd8fe5add2eb71",
       "style": "IPY_MODEL_3c693e91ff564727ae100cace99386fb",
       "value": "Epochs: 100%"
      }
     },
     "816ed7902a1449498eb0163bfcb72b5b": {
      "model_module": "@jupyter-widgets/controls",
      "model_module_version": "2.0.0",
      "model_name": "FloatProgressModel",
      "state": {
       "layout": "IPY_MODEL_7e3b87116e7b4d1b9bbf0aaec0052c1d",
       "max": 20,
       "style": "IPY_MODEL_eeb091b21f5f469a83fd3286ff9ce85e",
       "value": 20
      }
     },
     "832cfab6d1524a70bb7b94d971c3cc71": {
      "model_module": "@jupyter-widgets/controls",
      "model_module_version": "2.0.0",
      "model_name": "ProgressStyleModel",
      "state": {
       "description_width": ""
      }
     },
     "83618297615d4175bad987b5a23be108": {
      "model_module": "@jupyter-widgets/controls",
      "model_module_version": "2.0.0",
      "model_name": "ProgressStyleModel",
      "state": {
       "description_width": ""
      }
     },
     "84772ffa3ab348888883f5d235779397": {
      "model_module": "@jupyter-widgets/base",
      "model_module_version": "2.0.0",
      "model_name": "LayoutModel",
      "state": {
       "flex": "2"
      }
     },
     "84a1a11b9b8b40568bc487a187496e10": {
      "model_module": "@jupyter-widgets/base",
      "model_module_version": "2.0.0",
      "model_name": "LayoutModel",
      "state": {
       "display": "inline-flex",
       "flex_flow": "row wrap",
       "width": "100px"
      }
     },
     "854e2b36949046f7aee25811ee347da7": {
      "model_module": "@jupyter-widgets/controls",
      "model_module_version": "2.0.0",
      "model_name": "HTMLModel",
      "state": {
       "layout": "IPY_MODEL_e88f58e240aa44c3ba12a306a85ddb3d",
       "style": "IPY_MODEL_478d27b316b147d0a0fc9974bc17d728",
       "value": "Epochs:  10%"
      }
     },
     "85ec05a87af24b42bfe929e9e2be08b7": {
      "model_module": "@jupyter-widgets/controls",
      "model_module_version": "2.0.0",
      "model_name": "FloatProgressModel",
      "state": {
       "bar_style": "danger",
       "layout": "IPY_MODEL_ed52329af7a741999f7e90a9148a4ac1",
       "max": 20,
       "style": "IPY_MODEL_3b2f503a701143da9d38394db48f0541",
       "value": 3
      }
     },
     "869694f81c1e4eeea3a9962c0a967ffb": {
      "model_module": "@jupyter-widgets/controls",
      "model_module_version": "2.0.0",
      "model_name": "FloatProgressModel",
      "state": {
       "bar_style": "danger",
       "layout": "IPY_MODEL_f081a912ae6b4bcb95199d21064ef8e7",
       "max": 28,
       "style": "IPY_MODEL_83618297615d4175bad987b5a23be108"
      }
     },
     "871030076ff54fa6be20ad4e4b052dd5": {
      "model_module": "@jupyter-widgets/controls",
      "model_module_version": "2.0.0",
      "model_name": "HTMLStyleModel",
      "state": {
       "description_width": "",
       "font_size": null,
       "text_color": null
      }
     },
     "874afe4543354ab683d0e200e515109e": {
      "model_module": "@jupyter-widgets/controls",
      "model_module_version": "2.0.0",
      "model_name": "FloatProgressModel",
      "state": {
       "bar_style": "danger",
       "layout": "IPY_MODEL_5951d5638b2141c7995107ae3cd21163",
       "max": 28,
       "style": "IPY_MODEL_465a0da59b834fe885b4b9d23041e52e"
      }
     },
     "88d2caa5084e44ebacd5f28cce80e394": {
      "model_module": "@jupyter-widgets/controls",
      "model_module_version": "2.0.0",
      "model_name": "HBoxModel",
      "state": {
       "children": [
        "IPY_MODEL_1b49391d42824efba8632b7b5e992c26",
        "IPY_MODEL_874afe4543354ab683d0e200e515109e",
        "IPY_MODEL_4e8555e94641411095664fdde8cebd2f"
       ],
       "layout": "IPY_MODEL_13800eaf961a4441a4fa1684c38dad94"
      }
     },
     "88f1db3696564017ad62fb51552b291c": {
      "model_module": "@jupyter-widgets/controls",
      "model_module_version": "2.0.0",
      "model_name": "HBoxModel",
      "state": {
       "children": [
        "IPY_MODEL_2b6dc639f6024b1c997b812db38a0b75",
        "IPY_MODEL_40742ca302394ebea3d67aaa62482aae",
        "IPY_MODEL_29dc22616ec54cdc81207a25cdf18fda"
       ],
       "layout": "IPY_MODEL_63921d99354043e99d57e2a5b790a216"
      }
     },
     "893adda1dfee41e4a2fba5b346e2529a": {
      "model_module": "@jupyter-widgets/base",
      "model_module_version": "2.0.0",
      "model_name": "LayoutModel",
      "state": {
       "display": "inline-flex",
       "flex_flow": "row wrap",
       "visibility": "hidden",
       "width": "100%"
      }
     },
     "89d44c96502747df8fa7043042703363": {
      "model_module": "@jupyter-widgets/controls",
      "model_module_version": "2.0.0",
      "model_name": "HTMLStyleModel",
      "state": {
       "description_width": "",
       "font_size": null,
       "text_color": null
      }
     },
     "8abed9f45f3046fba157a8ee3dee8643": {
      "model_module": "@jupyter-widgets/base",
      "model_module_version": "2.0.0",
      "model_name": "LayoutModel",
      "state": {}
     },
     "8b237dcbf48948d9a58145d749e45e7f": {
      "model_module": "@jupyter-widgets/controls",
      "model_module_version": "2.0.0",
      "model_name": "HTMLStyleModel",
      "state": {
       "description_width": "",
       "font_size": null,
       "text_color": null
      }
     },
     "8b70ea3cdef54ce999949434bcb5f351": {
      "model_module": "@jupyter-widgets/controls",
      "model_module_version": "2.0.0",
      "model_name": "ProgressStyleModel",
      "state": {
       "description_width": ""
      }
     },
     "8bad7255d1f1491c88120b3ce819fd36": {
      "model_module": "@jupyter-widgets/controls",
      "model_module_version": "2.0.0",
      "model_name": "ProgressStyleModel",
      "state": {
       "description_width": ""
      }
     },
     "8c19f9c420e94ae1998d92a93eb78c39": {
      "model_module": "@jupyter-widgets/base",
      "model_module_version": "2.0.0",
      "model_name": "LayoutModel",
      "state": {}
     },
     "8c6d1fe8db2949048785129d57f1d7d1": {
      "model_module": "@jupyter-widgets/controls",
      "model_module_version": "2.0.0",
      "model_name": "HTMLStyleModel",
      "state": {
       "description_width": "",
       "font_size": null,
       "text_color": null
      }
     },
     "8e0c6ec11a984b98ab3a9df090447010": {
      "model_module": "@jupyter-widgets/base",
      "model_module_version": "2.0.0",
      "model_name": "LayoutModel",
      "state": {}
     },
     "8e3798473df24af9ab0a6c3efea6016b": {
      "model_module": "@jupyter-widgets/controls",
      "model_module_version": "2.0.0",
      "model_name": "HTMLStyleModel",
      "state": {
       "description_width": "",
       "font_size": null,
       "text_color": null
      }
     },
     "8e4dcd6caaba401cb6d007d87a0abf59": {
      "model_module": "@jupyter-widgets/controls",
      "model_module_version": "2.0.0",
      "model_name": "HTMLStyleModel",
      "state": {
       "description_width": "",
       "font_size": null,
       "text_color": null
      }
     },
     "9115c6ca09884ff7a32f86f2510d33aa": {
      "model_module": "@jupyter-widgets/controls",
      "model_module_version": "2.0.0",
      "model_name": "HBoxModel",
      "state": {
       "children": [
        "IPY_MODEL_ff211eb438e34eb69199e0739d53c59c",
        "IPY_MODEL_62f793cae7cc4caaa0378b1724a13933",
        "IPY_MODEL_5d8ae2d05dc14f8da182174ee3e319d8"
       ],
       "layout": "IPY_MODEL_cff98819578b4165b8ea0696aae7d832"
      }
     },
     "911905c88ffc417c99a96649f8998e79": {
      "model_module": "@jupyter-widgets/base",
      "model_module_version": "2.0.0",
      "model_name": "LayoutModel",
      "state": {}
     },
     "911cabd99e8947d48a068d0c835c6d6f": {
      "model_module": "@jupyter-widgets/controls",
      "model_module_version": "2.0.0",
      "model_name": "HTMLModel",
      "state": {
       "layout": "IPY_MODEL_b85ad2c6f17c4a8cb65eddaed73122b3",
       "style": "IPY_MODEL_dfc9cea4a8814cbd9873c4b13dc9c420",
       "value": " 2/20 [00:36&lt;05:24, 18.03s/it]"
      }
     },
     "9255e98a44604febbb278dbd41432a89": {
      "model_module": "@jupyter-widgets/controls",
      "model_module_version": "2.0.0",
      "model_name": "ProgressStyleModel",
      "state": {
       "description_width": ""
      }
     },
     "937d0f0845bb4781b1f0f66e34433a58": {
      "model_module": "@jupyter-widgets/controls",
      "model_module_version": "2.0.0",
      "model_name": "HTMLStyleModel",
      "state": {
       "description_width": "",
       "font_size": null,
       "text_color": null
      }
     },
     "93b69ffc834f4da4a760d10307ba584b": {
      "model_module": "@jupyter-widgets/base",
      "model_module_version": "2.0.0",
      "model_name": "LayoutModel",
      "state": {}
     },
     "93e94d205e40421c972e21bf3a1ea18e": {
      "model_module": "@jupyter-widgets/controls",
      "model_module_version": "2.0.0",
      "model_name": "HTMLModel",
      "state": {
       "layout": "IPY_MODEL_33d6058851ef43fe9ffc38fa3c91c053",
       "style": "IPY_MODEL_b2f2a80b60b549e6aef8ecab02092b25",
       "value": "Epochs:  15%"
      }
     },
     "94c8bd99106742a39e923537ec3bbb6f": {
      "model_module": "@jupyter-widgets/controls",
      "model_module_version": "2.0.0",
      "model_name": "HTMLModel",
      "state": {
       "layout": "IPY_MODEL_a3301b4acc444c28b7c9b675fa5eb750",
       "style": "IPY_MODEL_6e2b107cbc16430a955a2e4ce7a6e874",
       "value": " 3/20 [01:15&lt;06:12, 21.94s/it]"
      }
     },
     "951101a634544ba0bacdb301a5b45388": {
      "model_module": "@jupyter-widgets/controls",
      "model_module_version": "2.0.0",
      "model_name": "FloatProgressModel",
      "state": {
       "bar_style": "danger",
       "layout": "IPY_MODEL_0ac1b63e69914817a868e3d0cf0ed315",
       "max": 28,
       "style": "IPY_MODEL_bf14351acad24acba44664b320555ddf"
      }
     },
     "95af1f885ca747ddad9ef3a469962d1d": {
      "model_module": "@jupyter-widgets/base",
      "model_module_version": "2.0.0",
      "model_name": "LayoutModel",
      "state": {
       "display": "inline-flex",
       "flex_flow": "row wrap",
       "width": "100%"
      }
     },
     "95e9cdf7c830415abbb195cbcce61661": {
      "model_module": "@jupyter-widgets/controls",
      "model_module_version": "2.0.0",
      "model_name": "HTMLStyleModel",
      "state": {
       "description_width": "",
       "font_size": null,
       "text_color": null
      }
     },
     "964f2108415e4bb7ab0566a4c2f42478": {
      "model_module": "@jupyter-widgets/controls",
      "model_module_version": "2.0.0",
      "model_name": "HTMLStyleModel",
      "state": {
       "description_width": "",
       "font_size": null,
       "text_color": null
      }
     },
     "9690db328117411fa874b98c3133f3c3": {
      "model_module": "@jupyter-widgets/base",
      "model_module_version": "2.0.0",
      "model_name": "LayoutModel",
      "state": {}
     },
     "96b8886c39f3472dbbe40ce4334576f7": {
      "model_module": "@jupyter-widgets/base",
      "model_module_version": "2.0.0",
      "model_name": "LayoutModel",
      "state": {}
     },
     "972fe5ffee9d42c7838d4a6184c702c3": {
      "model_module": "@jupyter-widgets/base",
      "model_module_version": "2.0.0",
      "model_name": "LayoutModel",
      "state": {
       "display": "inline-flex",
       "flex_flow": "row wrap",
       "width": "100%"
      }
     },
     "97c347fab77f4845af4bff57d7841d9c": {
      "model_module": "@jupyter-widgets/base",
      "model_module_version": "2.0.0",
      "model_name": "LayoutModel",
      "state": {}
     },
     "99a50de07f9b4558bea11871f05fbe78": {
      "model_module": "@jupyter-widgets/controls",
      "model_module_version": "2.0.0",
      "model_name": "FloatProgressModel",
      "state": {
       "bar_style": "danger",
       "layout": "IPY_MODEL_33f365ded14f4cb9801b7d92a735a456",
       "max": 247,
       "style": "IPY_MODEL_47d3126c46b74387a25bb81454e55dfe"
      }
     },
     "9ad8a412338d4343b444898528127d63": {
      "model_module": "@jupyter-widgets/controls",
      "model_module_version": "2.0.0",
      "model_name": "HTMLStyleModel",
      "state": {
       "description_width": "",
       "font_size": null,
       "text_color": null
      }
     },
     "9c899b0d49a849a2a69c9ff641db2cda": {
      "model_module": "@jupyter-widgets/controls",
      "model_module_version": "2.0.0",
      "model_name": "HBoxModel",
      "state": {
       "children": [
        "IPY_MODEL_e233935e6b6a4565a0d2e5536632dbe3",
        "IPY_MODEL_ccb91b31d3024dd39512cd2218d1a493",
        "IPY_MODEL_911cabd99e8947d48a068d0c835c6d6f"
       ],
       "layout": "IPY_MODEL_c7d8c26ca5a641088c0d356251f2512e"
      }
     },
     "9cd642bd65bd4c08aba89ce0c1130dd3": {
      "model_module": "@jupyter-widgets/controls",
      "model_module_version": "2.0.0",
      "model_name": "HTMLModel",
      "state": {
       "layout": "IPY_MODEL_5d8a9e15c78e49f7af29a581e0e15299",
       "style": "IPY_MODEL_89d44c96502747df8fa7043042703363",
       "value": "Epochs:   0%"
      }
     },
     "9cf5d4b2d9cb42209fbe01890b1ba586": {
      "model_module": "@jupyter-widgets/base",
      "model_module_version": "2.0.0",
      "model_name": "LayoutModel",
      "state": {
       "flex": "2"
      }
     },
     "9d31adab3d6e4e06901b09f90eaf6b53": {
      "model_module": "@jupyter-widgets/base",
      "model_module_version": "2.0.0",
      "model_name": "LayoutModel",
      "state": {}
     },
     "9e14919573be4408910b8e1bfe83b88c": {
      "model_module": "@jupyter-widgets/base",
      "model_module_version": "2.0.0",
      "model_name": "LayoutModel",
      "state": {}
     },
     "9f7a55437c954646b7a024ac559f3715": {
      "model_module": "@jupyter-widgets/base",
      "model_module_version": "2.0.0",
      "model_name": "LayoutModel",
      "state": {}
     },
     "a033989734a6417db8b8be3f020b02ca": {
      "model_module": "@jupyter-widgets/base",
      "model_module_version": "2.0.0",
      "model_name": "LayoutModel",
      "state": {}
     },
     "a093ec24ec9e4ed4a88b5b03f91fb3fe": {
      "model_module": "@jupyter-widgets/base",
      "model_module_version": "2.0.0",
      "model_name": "LayoutModel",
      "state": {
       "flex": "2"
      }
     },
     "a1c53931e6944fc0813e58c508817f0c": {
      "model_module": "@jupyter-widgets/controls",
      "model_module_version": "2.0.0",
      "model_name": "HBoxModel",
      "state": {
       "children": [
        "IPY_MODEL_93e94d205e40421c972e21bf3a1ea18e",
        "IPY_MODEL_85ec05a87af24b42bfe929e9e2be08b7",
        "IPY_MODEL_94c8bd99106742a39e923537ec3bbb6f"
       ],
       "layout": "IPY_MODEL_5d42ba67d4704ca0b6b12d11162e2994"
      }
     },
     "a1f5cfca7ffe4ad6be3cd7f56fe9f7e1": {
      "model_module": "@jupyter-widgets/base",
      "model_module_version": "2.0.0",
      "model_name": "LayoutModel",
      "state": {}
     },
     "a3301b4acc444c28b7c9b675fa5eb750": {
      "model_module": "@jupyter-widgets/base",
      "model_module_version": "2.0.0",
      "model_name": "LayoutModel",
      "state": {}
     },
     "a43bbdcee79b4b448b610580e7b900e3": {
      "model_module": "@jupyter-widgets/controls",
      "model_module_version": "2.0.0",
      "model_name": "HTMLModel",
      "state": {
       "layout": "IPY_MODEL_c7dc839e94d14fce84d3080d21e4eaff",
       "style": "IPY_MODEL_b2e2742b707d4145a30b9d1283e6bbe5",
       "value": " 20/20 [06:00&lt;00:00, 18.04s/it]"
      }
     },
     "a5a7d0db3f614df9a1553feccab7ff7f": {
      "model_module": "@jupyter-widgets/controls",
      "model_module_version": "2.0.0",
      "model_name": "HTMLStyleModel",
      "state": {
       "description_width": "",
       "font_size": null,
       "text_color": null
      }
     },
     "a6281b2f1b264c7e8f415e4782ccda9b": {
      "model_module": "@jupyter-widgets/controls",
      "model_module_version": "2.0.0",
      "model_name": "HBoxModel",
      "state": {
       "children": [
        "IPY_MODEL_854e2b36949046f7aee25811ee347da7",
        "IPY_MODEL_2b9e590ddf4c4309b33cd6729221db08",
        "IPY_MODEL_d789be3b132a4fd9bcd97c68fe79880f"
       ],
       "layout": "IPY_MODEL_379f707fd85643ec8307195f592fe40f"
      }
     },
     "a9b7c108ec6c496795528e88d444559f": {
      "model_module": "@jupyter-widgets/controls",
      "model_module_version": "2.0.0",
      "model_name": "HTMLModel",
      "state": {
       "layout": "IPY_MODEL_04285b1b28f34733ada463931a1b208b",
       "style": "IPY_MODEL_0d161dc811fa49f89e44a32648e67f68",
       "value": "Epochs:  90%"
      }
     },
     "aae4a3c980234929a2e6bd8af1cfff99": {
      "model_module": "@jupyter-widgets/controls",
      "model_module_version": "2.0.0",
      "model_name": "HTMLStyleModel",
      "state": {
       "description_width": "",
       "font_size": null,
       "text_color": null
      }
     },
     "aba7cbad34af4b2c9e7cda96b269857d": {
      "model_module": "@jupyter-widgets/controls",
      "model_module_version": "2.0.0",
      "model_name": "HTMLModel",
      "state": {
       "layout": "IPY_MODEL_c36e216ebba245918a73a4600989b588",
       "style": "IPY_MODEL_02577fcd51ea4cdebc80730932cd6db4",
       "value": " 0/28 [00:02&lt;?, ?it/s]"
      }
     },
     "ac88c1697f4b4b42879e19e4b4979740": {
      "model_module": "@jupyter-widgets/controls",
      "model_module_version": "2.0.0",
      "model_name": "HTMLStyleModel",
      "state": {
       "description_width": "",
       "font_size": null,
       "text_color": null
      }
     },
     "ad4a39e8b9234c9d8845450ecfe6c749": {
      "model_module": "@jupyter-widgets/controls",
      "model_module_version": "2.0.0",
      "model_name": "HBoxModel",
      "state": {
       "children": [
        "IPY_MODEL_33ef9d6af2264489aedfc7c0859142d2",
        "IPY_MODEL_47e6ab1a92cb417d99037dd545496ad7",
        "IPY_MODEL_ef38cdc75c064ef3b08403de6bdd07f8"
       ],
       "layout": "IPY_MODEL_4ebc91c2c9e54a55b2e1970a1b750dcf"
      }
     },
     "ae0f008f491e46b18b851b4f01a7ef74": {
      "model_module": "@jupyter-widgets/base",
      "model_module_version": "2.0.0",
      "model_name": "LayoutModel",
      "state": {}
     },
     "af8bbb9f2a1f4d4096647d10f1dc5b8d": {
      "model_module": "@jupyter-widgets/base",
      "model_module_version": "2.0.0",
      "model_name": "LayoutModel",
      "state": {}
     },
     "affe8ee661824b77899dadaefa6ff976": {
      "model_module": "@jupyter-widgets/controls",
      "model_module_version": "2.0.0",
      "model_name": "HTMLStyleModel",
      "state": {
       "description_width": "",
       "font_size": null,
       "text_color": null
      }
     },
     "b07f57cdf0c84be99a1ef8dfe624a72f": {
      "model_module": "@jupyter-widgets/controls",
      "model_module_version": "2.0.0",
      "model_name": "ProgressStyleModel",
      "state": {
       "description_width": ""
      }
     },
     "b0e6ee6d3e1c4fc4a52ac22a3035f8a2": {
      "model_module": "@jupyter-widgets/controls",
      "model_module_version": "2.0.0",
      "model_name": "HTMLStyleModel",
      "state": {
       "description_width": "",
       "font_size": null,
       "text_color": null
      }
     },
     "b1d2e02630134d14a3b18ad81ada12bb": {
      "model_module": "@jupyter-widgets/controls",
      "model_module_version": "2.0.0",
      "model_name": "HTMLStyleModel",
      "state": {
       "description_width": "",
       "font_size": null,
       "text_color": null
      }
     },
     "b2e2742b707d4145a30b9d1283e6bbe5": {
      "model_module": "@jupyter-widgets/controls",
      "model_module_version": "2.0.0",
      "model_name": "HTMLStyleModel",
      "state": {
       "description_width": "",
       "font_size": null,
       "text_color": null
      }
     },
     "b2f2a80b60b549e6aef8ecab02092b25": {
      "model_module": "@jupyter-widgets/controls",
      "model_module_version": "2.0.0",
      "model_name": "HTMLStyleModel",
      "state": {
       "description_width": "",
       "font_size": null,
       "text_color": null
      }
     },
     "b3aec84580fa4af89d2ae23d5d1bbbcb": {
      "model_module": "@jupyter-widgets/controls",
      "model_module_version": "2.0.0",
      "model_name": "HTMLModel",
      "state": {
       "layout": "IPY_MODEL_be7213bf0b4a4e118fc6e1b37d238300",
       "style": "IPY_MODEL_30eb73336eea4040a5b53657e00d7ad0",
       "value": "Combo size 2:   0%"
      }
     },
     "b5390f8ce23645d5a66a262a62c61323": {
      "model_module": "@jupyter-widgets/controls",
      "model_module_version": "2.0.0",
      "model_name": "ProgressStyleModel",
      "state": {
       "description_width": ""
      }
     },
     "b5debabf9f1a4ca38226fe8d00793b78": {
      "model_module": "@jupyter-widgets/base",
      "model_module_version": "2.0.0",
      "model_name": "LayoutModel",
      "state": {}
     },
     "b7336dc75efe48d099cc5c333927ca2f": {
      "model_module": "@jupyter-widgets/controls",
      "model_module_version": "2.0.0",
      "model_name": "ProgressStyleModel",
      "state": {
       "description_width": ""
      }
     },
     "b7aaccf5e54f4b5da0d3c8bac3f42f89": {
      "model_module": "@jupyter-widgets/controls",
      "model_module_version": "2.0.0",
      "model_name": "HTMLModel",
      "state": {
       "layout": "IPY_MODEL_5bd4fb1bc41b4b6b823866bbc3d36f82",
       "style": "IPY_MODEL_e658731e8e624d05a6d57fbcaef306ce",
       "value": " 0/28 [00:36&lt;?, ?it/s]"
      }
     },
     "b7ed10490817427a828fa36d4825e22f": {
      "model_module": "@jupyter-widgets/base",
      "model_module_version": "2.0.0",
      "model_name": "LayoutModel",
      "state": {}
     },
     "b831bfb2990d41608476b4f99c96eaab": {
      "model_module": "@jupyter-widgets/controls",
      "model_module_version": "2.0.0",
      "model_name": "HTMLStyleModel",
      "state": {
       "description_width": "",
       "font_size": null,
       "text_color": null
      }
     },
     "b85ad2c6f17c4a8cb65eddaed73122b3": {
      "model_module": "@jupyter-widgets/base",
      "model_module_version": "2.0.0",
      "model_name": "LayoutModel",
      "state": {}
     },
     "b8dcc5a1b39a4f45ace4b2a7eca9593d": {
      "model_module": "@jupyter-widgets/controls",
      "model_module_version": "2.0.0",
      "model_name": "ProgressStyleModel",
      "state": {
       "description_width": ""
      }
     },
     "bc8ac87e895a41b4a7a7eea96b77c638": {
      "model_module": "@jupyter-widgets/controls",
      "model_module_version": "2.0.0",
      "model_name": "HTMLStyleModel",
      "state": {
       "description_width": "",
       "font_size": null,
       "text_color": null
      }
     },
     "bdd3ae0468b9472d9fa149a434baaf22": {
      "model_module": "@jupyter-widgets/controls",
      "model_module_version": "2.0.0",
      "model_name": "HTMLModel",
      "state": {
       "layout": "IPY_MODEL_385c0f195c9a4f3886c3c8e67c94c250",
       "style": "IPY_MODEL_871030076ff54fa6be20ad4e4b052dd5",
       "value": " 4/20 [01:33&lt;05:55, 22.22s/it]"
      }
     },
     "be0582dc7fce4be68b5d0a4f25ab6b35": {
      "model_module": "@jupyter-widgets/base",
      "model_module_version": "2.0.0",
      "model_name": "LayoutModel",
      "state": {
       "display": "inline-flex",
       "flex_flow": "row wrap",
       "width": "100%"
      }
     },
     "be1349fc5c834f7087a0498e74595061": {
      "model_module": "@jupyter-widgets/base",
      "model_module_version": "2.0.0",
      "model_name": "LayoutModel",
      "state": {}
     },
     "be7213bf0b4a4e118fc6e1b37d238300": {
      "model_module": "@jupyter-widgets/base",
      "model_module_version": "2.0.0",
      "model_name": "LayoutModel",
      "state": {}
     },
     "bea9d4ad832b44c99f0bdb805430458e": {
      "model_module": "@jupyter-widgets/controls",
      "model_module_version": "2.0.0",
      "model_name": "HTMLStyleModel",
      "state": {
       "description_width": "",
       "font_size": null,
       "text_color": null
      }
     },
     "bf14351acad24acba44664b320555ddf": {
      "model_module": "@jupyter-widgets/controls",
      "model_module_version": "2.0.0",
      "model_name": "ProgressStyleModel",
      "state": {
       "description_width": ""
      }
     },
     "c02afda3a8a34ff79b0b97495295a650": {
      "model_module": "@jupyter-widgets/controls",
      "model_module_version": "2.0.0",
      "model_name": "HTMLModel",
      "state": {
       "layout": "IPY_MODEL_0f0bdf02fe1143fbacc5a2b59da88a75",
       "style": "IPY_MODEL_7fbcd100c0174853b7cba342f8b1ece8",
       "value": "Epochs:   5%"
      }
     },
     "c163a45f00734b6db0004453fc772566": {
      "model_module": "@jupyter-widgets/controls",
      "model_module_version": "2.0.0",
      "model_name": "HTMLStyleModel",
      "state": {
       "description_width": "",
       "font_size": null,
       "text_color": null
      }
     },
     "c1c5ee0d4f744ea3bdaabfec3b3d18c4": {
      "model_module": "@jupyter-widgets/base",
      "model_module_version": "2.0.0",
      "model_name": "LayoutModel",
      "state": {
       "display": "inline-flex",
       "flex_flow": "row wrap",
       "width": "100px"
      }
     },
     "c217993c72134bf5bdc36e1eca586ddb": {
      "model_module": "@jupyter-widgets/controls",
      "model_module_version": "2.0.0",
      "model_name": "FloatProgressModel",
      "state": {
       "layout": "IPY_MODEL_a093ec24ec9e4ed4a88b5b03f91fb3fe",
       "max": 20,
       "style": "IPY_MODEL_b8dcc5a1b39a4f45ace4b2a7eca9593d",
       "value": 20
      }
     },
     "c2b80b58ded147ff85572b8ad5e494be": {
      "model_module": "@jupyter-widgets/controls",
      "model_module_version": "2.0.0",
      "model_name": "FloatProgressModel",
      "state": {
       "bar_style": "danger",
       "layout": "IPY_MODEL_54764a00678a4b7bb07693558f6cf216",
       "max": 20,
       "style": "IPY_MODEL_e406c8b70720436fa9947a6a9c03c4b8"
      }
     },
     "c2cc9aaf33ee467b839c695f77d3a832": {
      "model_module": "@jupyter-widgets/base",
      "model_module_version": "2.0.0",
      "model_name": "LayoutModel",
      "state": {
       "display": "inline-flex",
       "flex_flow": "row wrap",
       "width": "100%"
      }
     },
     "c36e216ebba245918a73a4600989b588": {
      "model_module": "@jupyter-widgets/base",
      "model_module_version": "2.0.0",
      "model_name": "LayoutModel",
      "state": {}
     },
     "c3c6167e7fb84f8f9189b9c63b3e8b65": {
      "model_module": "@jupyter-widgets/base",
      "model_module_version": "2.0.0",
      "model_name": "LayoutModel",
      "state": {}
     },
     "c42ee2540f97405a86b852228ba545db": {
      "model_module": "@jupyter-widgets/base",
      "model_module_version": "2.0.0",
      "model_name": "LayoutModel",
      "state": {}
     },
     "c4b8552ee7e348528cae9c5eb6ee1553": {
      "model_module": "@jupyter-widgets/controls",
      "model_module_version": "2.0.0",
      "model_name": "HTMLStyleModel",
      "state": {
       "description_width": "",
       "font_size": null,
       "text_color": null
      }
     },
     "c65e2e252af7405bbdca9334f724f678": {
      "model_module": "@jupyter-widgets/controls",
      "model_module_version": "2.0.0",
      "model_name": "HTMLModel",
      "state": {
       "layout": "IPY_MODEL_da3476e898a64f729098532516ef0fd9",
       "style": "IPY_MODEL_53adb4e2a72241a690c87d3f587e62d1",
       "value": " 8/20 [02:56&lt;04:27, 22.28s/it]"
      }
     },
     "c7d8c26ca5a641088c0d356251f2512e": {
      "model_module": "@jupyter-widgets/base",
      "model_module_version": "2.0.0",
      "model_name": "LayoutModel",
      "state": {}
     },
     "c7dc839e94d14fce84d3080d21e4eaff": {
      "model_module": "@jupyter-widgets/base",
      "model_module_version": "2.0.0",
      "model_name": "LayoutModel",
      "state": {}
     },
     "c8f98554881848b6bf3982a3814b9074": {
      "model_module": "@jupyter-widgets/controls",
      "model_module_version": "2.0.0",
      "model_name": "HTMLStyleModel",
      "state": {
       "description_width": "",
       "font_size": null,
       "text_color": null
      }
     },
     "c92c574637f9407c83a7842c9a216d88": {
      "model_module": "@jupyter-widgets/controls",
      "model_module_version": "2.0.0",
      "model_name": "FloatProgressModel",
      "state": {
       "layout": "IPY_MODEL_b5debabf9f1a4ca38226fe8d00793b78",
       "max": 20,
       "style": "IPY_MODEL_11fa49399b20435bbed0676805a2a17e",
       "value": 20
      }
     },
     "ca40c3fdce9947d5a39618cf4eed1528": {
      "model_module": "@jupyter-widgets/controls",
      "model_module_version": "2.0.0",
      "model_name": "HTMLModel",
      "state": {
       "layout": "IPY_MODEL_5df68415210049d686923447f0a5d914",
       "style": "IPY_MODEL_36086f484f6040c68b9f54178aa4a22b",
       "value": " 0/20 [00:10&lt;?, ?it/s]"
      }
     },
     "ca793fe30e494cb88c382a25787de914": {
      "model_module": "@jupyter-widgets/controls",
      "model_module_version": "2.0.0",
      "model_name": "HBoxModel",
      "state": {
       "children": [
        "IPY_MODEL_ca800e5d520141ddad4aa7dce409762c",
        "IPY_MODEL_12b9151de25749eb92b95dc5a158e83d",
        "IPY_MODEL_b7aaccf5e54f4b5da0d3c8bac3f42f89"
       ],
       "layout": "IPY_MODEL_84a1a11b9b8b40568bc487a187496e10"
      }
     },
     "ca800e5d520141ddad4aa7dce409762c": {
      "model_module": "@jupyter-widgets/controls",
      "model_module_version": "2.0.0",
      "model_name": "HTMLModel",
      "state": {
       "layout": "IPY_MODEL_a1f5cfca7ffe4ad6be3cd7f56fe9f7e1",
       "style": "IPY_MODEL_cfb112d695b841c8aed46984e0d8779d",
       "value": "Combo size 2:   0%"
      }
     },
     "cb8e2fcfadb943908f370477f4e75c14": {
      "model_module": "@jupyter-widgets/base",
      "model_module_version": "2.0.0",
      "model_name": "LayoutModel",
      "state": {}
     },
     "cc051dc794fe4fc7b78080bc5ee81ed4": {
      "model_module": "@jupyter-widgets/controls",
      "model_module_version": "2.0.0",
      "model_name": "FloatProgressModel",
      "state": {
       "bar_style": "danger",
       "layout": "IPY_MODEL_2b163fe570e04cf4927e17be8711dcf7",
       "max": 28,
       "style": "IPY_MODEL_832cfab6d1524a70bb7b94d971c3cc71",
       "value": 2
      }
     },
     "ccb91b31d3024dd39512cd2218d1a493": {
      "model_module": "@jupyter-widgets/controls",
      "model_module_version": "2.0.0",
      "model_name": "FloatProgressModel",
      "state": {
       "bar_style": "danger",
       "layout": "IPY_MODEL_656fcaa4520c497eaab50287779b536c",
       "max": 20,
       "style": "IPY_MODEL_cd478b57c0dd4defb879a7ba0da45ed0",
       "value": 2
      }
     },
     "cd478b57c0dd4defb879a7ba0da45ed0": {
      "model_module": "@jupyter-widgets/controls",
      "model_module_version": "2.0.0",
      "model_name": "ProgressStyleModel",
      "state": {
       "description_width": ""
      }
     },
     "cd6b66b09abe4606926b0c48d6a5e7c0": {
      "model_module": "@jupyter-widgets/controls",
      "model_module_version": "2.0.0",
      "model_name": "FloatProgressModel",
      "state": {
       "bar_style": "danger",
       "layout": "IPY_MODEL_de9702563ba249e99d62b5378b02323f",
       "max": 20,
       "style": "IPY_MODEL_3a6db4d012294d0abace8d93b68e77f4",
       "value": 4
      }
     },
     "cf2458c3cba5407aba61ad448331dc5a": {
      "model_module": "@jupyter-widgets/base",
      "model_module_version": "2.0.0",
      "model_name": "LayoutModel",
      "state": {}
     },
     "cfb112d695b841c8aed46984e0d8779d": {
      "model_module": "@jupyter-widgets/controls",
      "model_module_version": "2.0.0",
      "model_name": "HTMLStyleModel",
      "state": {
       "description_width": "",
       "font_size": null,
       "text_color": null
      }
     },
     "cff98819578b4165b8ea0696aae7d832": {
      "model_module": "@jupyter-widgets/base",
      "model_module_version": "2.0.0",
      "model_name": "LayoutModel",
      "state": {
       "display": "inline-flex",
       "flex_flow": "row wrap",
       "width": "100%"
      }
     },
     "d01461ad9675454e91c8663e7eec571e": {
      "model_module": "@jupyter-widgets/controls",
      "model_module_version": "2.0.0",
      "model_name": "HBoxModel",
      "state": {
       "children": [
        "IPY_MODEL_c02afda3a8a34ff79b0b97495295a650",
        "IPY_MODEL_3eba0f1fb4444c61b15a6b9fbeff5909",
        "IPY_MODEL_213dd66944ed45e7b3e551f639570518"
       ],
       "layout": "IPY_MODEL_972fe5ffee9d42c7838d4a6184c702c3"
      }
     },
     "d0603c51a4e84e13b0e99709bc228e72": {
      "model_module": "@jupyter-widgets/controls",
      "model_module_version": "2.0.0",
      "model_name": "HTMLModel",
      "state": {
       "layout": "IPY_MODEL_7de5a1fae91e4b00bf33e0487e7efcf0",
       "style": "IPY_MODEL_28d91b86d25740a19c2006385bcab527",
       "value": " 20/20 [07:21&lt;00:00, 22.21s/it, Loss=1.49e-5]"
      }
     },
     "d10bd2337fbf4a06aa16cde9a08f37fd": {
      "model_module": "@jupyter-widgets/controls",
      "model_module_version": "2.0.0",
      "model_name": "HTMLStyleModel",
      "state": {
       "description_width": "",
       "font_size": null,
       "text_color": null
      }
     },
     "d25c344f620c42e8b6db7c9e44cfbce9": {
      "model_module": "@jupyter-widgets/controls",
      "model_module_version": "2.0.0",
      "model_name": "FloatProgressModel",
      "state": {
       "bar_style": "danger",
       "layout": "IPY_MODEL_9cf5d4b2d9cb42209fbe01890b1ba586",
       "max": 28,
       "style": "IPY_MODEL_3d4272304356484cbab93141449b6876"
      }
     },
     "d2c4bc95df664a0099e4966941e09aa0": {
      "model_module": "@jupyter-widgets/base",
      "model_module_version": "2.0.0",
      "model_name": "LayoutModel",
      "state": {}
     },
     "d366e70990c44711b2e3913c982dd794": {
      "model_module": "@jupyter-widgets/controls",
      "model_module_version": "2.0.0",
      "model_name": "HTMLStyleModel",
      "state": {
       "description_width": "",
       "font_size": null,
       "text_color": null
      }
     },
     "d3d9730ff6b7487e8165846954138208": {
      "model_module": "@jupyter-widgets/controls",
      "model_module_version": "2.0.0",
      "model_name": "HTMLModel",
      "state": {
       "layout": "IPY_MODEL_d8d32f4378a342fcaa275eb262584ef6",
       "style": "IPY_MODEL_36b6324b74004a4abc22322de2945401",
       "value": "Epochs:   0%"
      }
     },
     "d6581281ce714bfb84d886689fa459b5": {
      "model_module": "@jupyter-widgets/base",
      "model_module_version": "2.0.0",
      "model_name": "LayoutModel",
      "state": {}
     },
     "d65c11b0676a4992bc7aabd281f1575c": {
      "model_module": "@jupyter-widgets/controls",
      "model_module_version": "2.0.0",
      "model_name": "HTMLModel",
      "state": {
       "layout": "IPY_MODEL_9f7a55437c954646b7a024ac559f3715",
       "style": "IPY_MODEL_e663c2f06fef40b6baa0c6f678d17f98",
       "value": "Epochs:  20%"
      }
     },
     "d789be3b132a4fd9bcd97c68fe79880f": {
      "model_module": "@jupyter-widgets/controls",
      "model_module_version": "2.0.0",
      "model_name": "HTMLModel",
      "state": {
       "layout": "IPY_MODEL_42181a0f5e0347d9b934debb5a88cc1e",
       "style": "IPY_MODEL_2fe0f5c31f4244e0b62b142ae02482a7",
       "value": " 2/20 [00:55&lt;06:39, 22.19s/it, Loss=1.62e-5]"
      }
     },
     "d8586ae648b04ccb8a891e855157bbc7": {
      "model_module": "@jupyter-widgets/controls",
      "model_module_version": "2.0.0",
      "model_name": "ProgressStyleModel",
      "state": {
       "description_width": ""
      }
     },
     "d8d32f4378a342fcaa275eb262584ef6": {
      "model_module": "@jupyter-widgets/base",
      "model_module_version": "2.0.0",
      "model_name": "LayoutModel",
      "state": {}
     },
     "d8eb76ef710b45339b9409c92a9ee1bb": {
      "model_module": "@jupyter-widgets/base",
      "model_module_version": "2.0.0",
      "model_name": "LayoutModel",
      "state": {}
     },
     "d944372c10ea4bd08406541666392f58": {
      "model_module": "@jupyter-widgets/controls",
      "model_module_version": "2.0.0",
      "model_name": "HTMLModel",
      "state": {
       "layout": "IPY_MODEL_3d44e4e6eb9e4fb991d79c451da21062",
       "style": "IPY_MODEL_2f76e95dacd44c8db4f918eaf7dda796",
       "value": "Combo size 2:   0%"
      }
     },
     "d975371099a14c7a85854e40ac638681": {
      "model_module": "@jupyter-widgets/controls",
      "model_module_version": "2.0.0",
      "model_name": "FloatProgressModel",
      "state": {
       "bar_style": "danger",
       "layout": "IPY_MODEL_c42ee2540f97405a86b852228ba545db",
       "max": 20,
       "style": "IPY_MODEL_9255e98a44604febbb278dbd41432a89"
      }
     },
     "da2da67a76254a6da5c01cbcdc8492c4": {
      "model_module": "@jupyter-widgets/base",
      "model_module_version": "2.0.0",
      "model_name": "LayoutModel",
      "state": {
       "display": "inline-flex",
       "flex_flow": "row wrap",
       "width": "100%"
      }
     },
     "da3476e898a64f729098532516ef0fd9": {
      "model_module": "@jupyter-widgets/base",
      "model_module_version": "2.0.0",
      "model_name": "LayoutModel",
      "state": {}
     },
     "db81676336d94cf18a929237217a4485": {
      "model_module": "@jupyter-widgets/base",
      "model_module_version": "2.0.0",
      "model_name": "LayoutModel",
      "state": {}
     },
     "dc77e52c35b84d06a5c2c7c5ca15786a": {
      "model_module": "@jupyter-widgets/controls",
      "model_module_version": "2.0.0",
      "model_name": "HTMLStyleModel",
      "state": {
       "description_width": "",
       "font_size": null,
       "text_color": null
      }
     },
     "de9702563ba249e99d62b5378b02323f": {
      "model_module": "@jupyter-widgets/base",
      "model_module_version": "2.0.0",
      "model_name": "LayoutModel",
      "state": {}
     },
     "df25cf050a32416f8bf7be1d964c7973": {
      "model_module": "@jupyter-widgets/controls",
      "model_module_version": "2.0.0",
      "model_name": "HTMLModel",
      "state": {
       "layout": "IPY_MODEL_6bea5ce17b1b45e7a124dd3b9078e8ca",
       "style": "IPY_MODEL_5204340caf204b23a270b33bd333fbaf",
       "value": "Epochs: 100%"
      }
     },
     "df8a55bf46ca4af7a264bac13230437a": {
      "model_module": "@jupyter-widgets/controls",
      "model_module_version": "2.0.0",
      "model_name": "HTMLStyleModel",
      "state": {
       "description_width": "",
       "font_size": null,
       "text_color": null
      }
     },
     "dfa4c0e084534df99ce11fc1e16ddb09": {
      "model_module": "@jupyter-widgets/base",
      "model_module_version": "2.0.0",
      "model_name": "LayoutModel",
      "state": {}
     },
     "dfc9cea4a8814cbd9873c4b13dc9c420": {
      "model_module": "@jupyter-widgets/controls",
      "model_module_version": "2.0.0",
      "model_name": "HTMLStyleModel",
      "state": {
       "description_width": "",
       "font_size": null,
       "text_color": null
      }
     },
     "e00f373171c1453e8398eb1ced4125f2": {
      "model_module": "@jupyter-widgets/controls",
      "model_module_version": "2.0.0",
      "model_name": "ProgressStyleModel",
      "state": {
       "description_width": ""
      }
     },
     "e0777d9e8b2a4a5a95c4450350fcdf68": {
      "model_module": "@jupyter-widgets/base",
      "model_module_version": "2.0.0",
      "model_name": "LayoutModel",
      "state": {}
     },
     "e233935e6b6a4565a0d2e5536632dbe3": {
      "model_module": "@jupyter-widgets/controls",
      "model_module_version": "2.0.0",
      "model_name": "HTMLModel",
      "state": {
       "layout": "IPY_MODEL_0f1c35f87ead4443afe196d54d68d33b",
       "style": "IPY_MODEL_bc8ac87e895a41b4a7a7eea96b77c638",
       "value": "Epochs:  10%"
      }
     },
     "e296de4951314f039768636d2aefe1a4": {
      "model_module": "@jupyter-widgets/base",
      "model_module_version": "2.0.0",
      "model_name": "LayoutModel",
      "state": {}
     },
     "e406c8b70720436fa9947a6a9c03c4b8": {
      "model_module": "@jupyter-widgets/controls",
      "model_module_version": "2.0.0",
      "model_name": "ProgressStyleModel",
      "state": {
       "description_width": ""
      }
     },
     "e5968446f63b491ea4fa5b1bda3e64e4": {
      "model_module": "@jupyter-widgets/controls",
      "model_module_version": "2.0.0",
      "model_name": "HBoxModel",
      "state": {
       "children": [
        "IPY_MODEL_d3d9730ff6b7487e8165846954138208",
        "IPY_MODEL_d975371099a14c7a85854e40ac638681",
        "IPY_MODEL_ca40c3fdce9947d5a39618cf4eed1528"
       ],
       "layout": "IPY_MODEL_1b41b571df93444ab61bb6a9f0579334"
      }
     },
     "e5e0dede80df48b09f89992e8e0444a9": {
      "model_module": "@jupyter-widgets/controls",
      "model_module_version": "2.0.0",
      "model_name": "HTMLModel",
      "state": {
       "layout": "IPY_MODEL_0d73916a38de4d9b80246757a2682c27",
       "style": "IPY_MODEL_affe8ee661824b77899dadaefa6ff976",
       "value": "Epochs: 100%"
      }
     },
     "e658731e8e624d05a6d57fbcaef306ce": {
      "model_module": "@jupyter-widgets/controls",
      "model_module_version": "2.0.0",
      "model_name": "HTMLStyleModel",
      "state": {
       "description_width": "",
       "font_size": null,
       "text_color": null
      }
     },
     "e663c2f06fef40b6baa0c6f678d17f98": {
      "model_module": "@jupyter-widgets/controls",
      "model_module_version": "2.0.0",
      "model_name": "HTMLStyleModel",
      "state": {
       "description_width": "",
       "font_size": null,
       "text_color": null
      }
     },
     "e692e866407d47f88ebcdb9a8987bfde": {
      "model_module": "@jupyter-widgets/base",
      "model_module_version": "2.0.0",
      "model_name": "LayoutModel",
      "state": {
       "flex": "2"
      }
     },
     "e6e62a5965a242de98f4ada079534792": {
      "model_module": "@jupyter-widgets/controls",
      "model_module_version": "2.0.0",
      "model_name": "FloatProgressModel",
      "state": {
       "layout": "IPY_MODEL_2d191a4e2c5c40ea9271f85f7aa28b6b",
       "max": 20,
       "style": "IPY_MODEL_2cffb75f62f24b7f8efca813de55ef61",
       "value": 20
      }
     },
     "e88f58e240aa44c3ba12a306a85ddb3d": {
      "model_module": "@jupyter-widgets/base",
      "model_module_version": "2.0.0",
      "model_name": "LayoutModel",
      "state": {}
     },
     "e93d403db4134663993773cd6dd5c410": {
      "model_module": "@jupyter-widgets/controls",
      "model_module_version": "2.0.0",
      "model_name": "HBoxModel",
      "state": {
       "children": [
        "IPY_MODEL_f6f85970a0a54120a4f6f2cc87430b1c",
        "IPY_MODEL_cc051dc794fe4fc7b78080bc5ee81ed4",
        "IPY_MODEL_fd7c0771f8e84bd2a12473281f573fad"
       ],
       "layout": "IPY_MODEL_95af1f885ca747ddad9ef3a469962d1d"
      }
     },
     "ea96b14c8237437291f9d73b35b6493e": {
      "model_module": "@jupyter-widgets/controls",
      "model_module_version": "2.0.0",
      "model_name": "HBoxModel",
      "state": {
       "children": [
        "IPY_MODEL_d65c11b0676a4992bc7aabd281f1575c",
        "IPY_MODEL_cd6b66b09abe4606926b0c48d6a5e7c0",
        "IPY_MODEL_bdd3ae0468b9472d9fa149a434baaf22"
       ],
       "layout": "IPY_MODEL_5e24af1f1f2b402f99f9c713dd746923"
      }
     },
     "eab062ec8ba64a94a5bfeb6bcf525e61": {
      "model_module": "@jupyter-widgets/controls",
      "model_module_version": "2.0.0",
      "model_name": "HBoxModel",
      "state": {
       "children": [
        "IPY_MODEL_139d3f5456a34669b729978cc0efce02",
        "IPY_MODEL_fd53298ed64943318cfec78ac174d6ab",
        "IPY_MODEL_658d1e396fc74c5597ff70f3f349e9cc"
       ],
       "layout": "IPY_MODEL_da2da67a76254a6da5c01cbcdc8492c4"
      }
     },
     "ead858c09cd14ae494e5eb241968c743": {
      "model_module": "@jupyter-widgets/controls",
      "model_module_version": "2.0.0",
      "model_name": "HTMLModel",
      "state": {
       "layout": "IPY_MODEL_93b69ffc834f4da4a760d10307ba584b",
       "style": "IPY_MODEL_c8f98554881848b6bf3982a3814b9074",
       "value": "Epochs: 100%"
      }
     },
     "eb34830130b044d086cd77da1edb9e5e": {
      "model_module": "@jupyter-widgets/base",
      "model_module_version": "2.0.0",
      "model_name": "LayoutModel",
      "state": {}
     },
     "eb3c567dfa2e43c586df115bc8107a63": {
      "model_module": "@jupyter-widgets/base",
      "model_module_version": "2.0.0",
      "model_name": "LayoutModel",
      "state": {
       "display": "inline-flex",
       "flex_flow": "row wrap",
       "width": "100%"
      }
     },
     "ebfecad70e01415d976514fc2574115b": {
      "model_module": "@jupyter-widgets/base",
      "model_module_version": "2.0.0",
      "model_name": "LayoutModel",
      "state": {}
     },
     "ed33dc17f626486395a8eaa30ec10322": {
      "model_module": "@jupyter-widgets/controls",
      "model_module_version": "2.0.0",
      "model_name": "ProgressStyleModel",
      "state": {
       "description_width": ""
      }
     },
     "ed52329af7a741999f7e90a9148a4ac1": {
      "model_module": "@jupyter-widgets/base",
      "model_module_version": "2.0.0",
      "model_name": "LayoutModel",
      "state": {
       "flex": "2"
      }
     },
     "ed5383690524497e8fdbdba344294bfa": {
      "model_module": "@jupyter-widgets/controls",
      "model_module_version": "2.0.0",
      "model_name": "HTMLModel",
      "state": {
       "layout": "IPY_MODEL_1775e62e735c4f938d0ba27a35978e43",
       "style": "IPY_MODEL_67560fc173444c59a4cb7dd711e252de",
       "value": " 18/20 [06:47&lt;00:44, 22.20s/it]"
      }
     },
     "eeb091b21f5f469a83fd3286ff9ce85e": {
      "model_module": "@jupyter-widgets/controls",
      "model_module_version": "2.0.0",
      "model_name": "ProgressStyleModel",
      "state": {
       "description_width": ""
      }
     },
     "ef025b6d65d34cc1a54f0a27ab2ac258": {
      "model_module": "@jupyter-widgets/controls",
      "model_module_version": "2.0.0",
      "model_name": "HBoxModel",
      "state": {
       "children": [
        "IPY_MODEL_9cd642bd65bd4c08aba89ce0c1130dd3",
        "IPY_MODEL_fac1cd298bf84a8f8ca80696905ab50c",
        "IPY_MODEL_701d6125cdc84ae2893b01084250b9c1"
       ],
       "layout": "IPY_MODEL_7265202f39f6493caec099bb48506edd"
      }
     },
     "ef38cdc75c064ef3b08403de6bdd07f8": {
      "model_module": "@jupyter-widgets/controls",
      "model_module_version": "2.0.0",
      "model_name": "HTMLModel",
      "state": {
       "layout": "IPY_MODEL_fb28ee673e054bf39c09fe48aa3f13d7",
       "style": "IPY_MODEL_b831bfb2990d41608476b4f99c96eaab",
       "value": " 0/28 [01:16&lt;?, ?it/s]"
      }
     },
     "f081a912ae6b4bcb95199d21064ef8e7": {
      "model_module": "@jupyter-widgets/base",
      "model_module_version": "2.0.0",
      "model_name": "LayoutModel",
      "state": {}
     },
     "f1037910901048bdae3909fab381c908": {
      "model_module": "@jupyter-widgets/controls",
      "model_module_version": "2.0.0",
      "model_name": "HBoxModel",
      "state": {
       "children": [
        "IPY_MODEL_d944372c10ea4bd08406541666392f58",
        "IPY_MODEL_727b1ca9bfcd46298c60996483494e95",
        "IPY_MODEL_794594565c38454480ab2781ead34663"
       ],
       "layout": "IPY_MODEL_c2cc9aaf33ee467b839c695f77d3a832"
      }
     },
     "f16edd94775e4bb0a16efc77cede6b39": {
      "model_module": "@jupyter-widgets/base",
      "model_module_version": "2.0.0",
      "model_name": "LayoutModel",
      "state": {}
     },
     "f266e2fb58c14ddfa0e7f41ae3bec64c": {
      "model_module": "@jupyter-widgets/controls",
      "model_module_version": "2.0.0",
      "model_name": "HBoxModel",
      "state": {
       "children": [
        "IPY_MODEL_7ed4392ca27745ceb2b5493f6382dc95",
        "IPY_MODEL_951101a634544ba0bacdb301a5b45388",
        "IPY_MODEL_7fa3c51ce87e4cf8b151fb98cb5c03e6"
       ],
       "layout": "IPY_MODEL_be1349fc5c834f7087a0498e74595061"
      }
     },
     "f4337af894df466c9fe77b899f01ddc0": {
      "model_module": "@jupyter-widgets/controls",
      "model_module_version": "2.0.0",
      "model_name": "HTMLModel",
      "state": {
       "layout": "IPY_MODEL_187099e3d019447d9fadfd1dc7527025",
       "style": "IPY_MODEL_4ad6ef61c67542fe8bc6d28e6ec0cbc2",
       "value": " 0/247 [15:04&lt;?, ?it/s]"
      }
     },
     "f567427369c94aa5ab328f435aae8388": {
      "model_module": "@jupyter-widgets/base",
      "model_module_version": "2.0.0",
      "model_name": "LayoutModel",
      "state": {}
     },
     "f67d87521c7e47d4a232ee56e07e11f7": {
      "model_module": "@jupyter-widgets/base",
      "model_module_version": "2.0.0",
      "model_name": "LayoutModel",
      "state": {}
     },
     "f6b4aee6483e4cf3886d386d0c753fc1": {
      "model_module": "@jupyter-widgets/controls",
      "model_module_version": "2.0.0",
      "model_name": "HBoxModel",
      "state": {
       "children": [
        "IPY_MODEL_2c6663e002624ba9b60d720e06db8f35",
        "IPY_MODEL_74c5cba44228494e948742a15e22254a",
        "IPY_MODEL_3267530d56274889a2ee331dd3f5b601"
       ],
       "layout": "IPY_MODEL_6dbf08e4e8ed4f80b5e6a0e30185efde"
      }
     },
     "f6f85970a0a54120a4f6f2cc87430b1c": {
      "model_module": "@jupyter-widgets/controls",
      "model_module_version": "2.0.0",
      "model_name": "HTMLModel",
      "state": {
       "layout": "IPY_MODEL_fa22c663e0704562816c39e32e2e1553",
       "style": "IPY_MODEL_8c6d1fe8db2949048785129d57f1d7d1",
       "value": "Combo size 2:   7%"
      }
     },
     "f7b4a8dfaf72451eb1ed5a0286f11433": {
      "model_module": "@jupyter-widgets/controls",
      "model_module_version": "2.0.0",
      "model_name": "HTMLModel",
      "state": {
       "layout": "IPY_MODEL_f909c99cf8984bdb872ad9f5ee6ef03f",
       "style": "IPY_MODEL_95e9cdf7c830415abbb195cbcce61661",
       "value": "Combo size 2:   0%"
      }
     },
     "f80713864f9a4ab2955540094de71dea": {
      "model_module": "@jupyter-widgets/controls",
      "model_module_version": "2.0.0",
      "model_name": "HTMLModel",
      "state": {
       "layout": "IPY_MODEL_fccdd37dcb504746a54f89c36bd43c21",
       "style": "IPY_MODEL_6883b3a0347e4104b851442d1c7d10dc",
       "value": " 2/20 [00:50&lt;05:23, 17.94s/it]"
      }
     },
     "f80c71c4e92d414f98b5b241abf38b23": {
      "model_module": "@jupyter-widgets/base",
      "model_module_version": "2.0.0",
      "model_name": "LayoutModel",
      "state": {}
     },
     "f909c99cf8984bdb872ad9f5ee6ef03f": {
      "model_module": "@jupyter-widgets/base",
      "model_module_version": "2.0.0",
      "model_name": "LayoutModel",
      "state": {}
     },
     "f998e6508b6d49b88201908d9bc8c8d2": {
      "model_module": "@jupyter-widgets/controls",
      "model_module_version": "2.0.0",
      "model_name": "HTMLModel",
      "state": {
       "layout": "IPY_MODEL_cf2458c3cba5407aba61ad448331dc5a",
       "style": "IPY_MODEL_6cd0aa77f1044010b1fa4900dc19c7bd",
       "value": " 0/247 [00:56&lt;?, ?it/s]"
      }
     },
     "fa22c663e0704562816c39e32e2e1553": {
      "model_module": "@jupyter-widgets/base",
      "model_module_version": "2.0.0",
      "model_name": "LayoutModel",
      "state": {}
     },
     "fac1cd298bf84a8f8ca80696905ab50c": {
      "model_module": "@jupyter-widgets/controls",
      "model_module_version": "2.0.0",
      "model_name": "FloatProgressModel",
      "state": {
       "bar_style": "danger",
       "layout": "IPY_MODEL_0d5b7d459f4a4ac9bee5ab60f976480d",
       "max": 20,
       "style": "IPY_MODEL_03badf09b0ee4a73bb1887d8e3a42797"
      }
     },
     "fb28ee673e054bf39c09fe48aa3f13d7": {
      "model_module": "@jupyter-widgets/base",
      "model_module_version": "2.0.0",
      "model_name": "LayoutModel",
      "state": {}
     },
     "fccdd37dcb504746a54f89c36bd43c21": {
      "model_module": "@jupyter-widgets/base",
      "model_module_version": "2.0.0",
      "model_name": "LayoutModel",
      "state": {}
     },
     "fd53298ed64943318cfec78ac174d6ab": {
      "model_module": "@jupyter-widgets/controls",
      "model_module_version": "2.0.0",
      "model_name": "FloatProgressModel",
      "state": {
       "bar_style": "danger",
       "layout": "IPY_MODEL_31b312280e054d69983cf054b2dfc2b7",
       "max": 28,
       "style": "IPY_MODEL_8bad7255d1f1491c88120b3ce819fd36"
      }
     },
     "fd7c0771f8e84bd2a12473281f573fad": {
      "model_module": "@jupyter-widgets/controls",
      "model_module_version": "2.0.0",
      "model_name": "HTMLModel",
      "state": {
       "layout": "IPY_MODEL_911905c88ffc417c99a96649f8998e79",
       "style": "IPY_MODEL_dc77e52c35b84d06a5c2c7c5ca15786a",
       "value": " 2/28 [14:59&lt;3:07:08, 431.88s/it]"
      }
     },
     "ff211eb438e34eb69199e0739d53c59c": {
      "model_module": "@jupyter-widgets/controls",
      "model_module_version": "2.0.0",
      "model_name": "HTMLModel",
      "state": {
       "layout": "IPY_MODEL_1307d3bd8b2f43b195d9b1e110de16df",
       "style": "IPY_MODEL_ac88c1697f4b4b42879e19e4b4979740",
       "value": "Combo size 2:   0%"
      }
     }
    },
    "version_major": 2,
    "version_minor": 0
   }
  }
 },
 "nbformat": 4,
 "nbformat_minor": 5
}
