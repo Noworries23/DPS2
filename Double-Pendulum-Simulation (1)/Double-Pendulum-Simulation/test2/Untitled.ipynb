{
 "cells": [
  {
   "cell_type": "code",
   "execution_count": 1,
   "id": "7853ac64-cd70-4698-907d-fa1ec00eb40f",
   "metadata": {
    "tags": []
   },
   "outputs": [
    {
     "ename": "AttributeError",
     "evalue": "'collections.OrderedDict' object has no attribute 'eval'",
     "output_type": "error",
     "traceback": [
      "\u001b[0;31m---------------------------------------------------------------------------\u001b[0m",
      "\u001b[0;31mAttributeError\u001b[0m                            Traceback (most recent call last)",
      "Cell \u001b[0;32mIn[1], line 15\u001b[0m\n\u001b[1;32m     13\u001b[0m model_path \u001b[38;5;241m=\u001b[39m \u001b[38;5;124m'\u001b[39m\u001b[38;5;124mautoencoder_Theta1_X1.pt\u001b[39m\u001b[38;5;124m'\u001b[39m\n\u001b[1;32m     14\u001b[0m autoencoder \u001b[38;5;241m=\u001b[39m torch\u001b[38;5;241m.\u001b[39mload(model_path)\n\u001b[0;32m---> 15\u001b[0m \u001b[43mautoencoder\u001b[49m\u001b[38;5;241;43m.\u001b[39;49m\u001b[43meval\u001b[49m()\n\u001b[1;32m     17\u001b[0m \u001b[38;5;66;03m# Sample Data (Replace with your actual data loader)\u001b[39;00m\n\u001b[1;32m     18\u001b[0m \u001b[38;5;66;03m# X should be a numpy array of shape (n_samples, input_dim)\u001b[39;00m\n\u001b[1;32m     19\u001b[0m X \u001b[38;5;241m=\u001b[39m np\u001b[38;5;241m.\u001b[39mload(\u001b[38;5;124m'\u001b[39m\u001b[38;5;124mdouble_pendulum_data.npy\u001b[39m\u001b[38;5;124m'\u001b[39m)  \u001b[38;5;66;03m# Load your actual dataset here\u001b[39;00m\n",
      "\u001b[0;31mAttributeError\u001b[0m: 'collections.OrderedDict' object has no attribute 'eval'"
     ]
    }
   ],
   "source": [
    "# Autoencoder Analysis on Double Pendulum Data\n",
    "# Focus: Visualizations & Pattern Recognition\n",
    "\n",
    "import torch\n",
    "import numpy as np\n",
    "import matplotlib.pyplot as plt\n",
    "from sklearn.manifold import TSNE\n",
    "from sklearn.decomposition import PCA\n",
    "from sklearn.cluster import KMeans\n",
    "from sklearn.metrics import mean_squared_error\n",
    "\n",
    "# Load Model\n",
    "model_path = 'autoencoder_Theta1_X1.pt'\n",
    "autoencoder = torch.load(model_path)\n",
    "autoencoder.eval()\n",
    "\n",
    "# Sample Data (Replace with your actual data loader)\n",
    "# X should be a numpy array of shape (n_samples, input_dim)\n",
    "X = np.load('double_pendulum_data.npy')  # Load your actual dataset here\n",
    "X_tensor = torch.tensor(X, dtype=torch.float32)\n",
    "\n",
    "# Encode Data\n",
    "with torch.no_grad():\n",
    "    latent = autoencoder.encoder(X_tensor).numpy()\n",
    "    reconstructed = autoencoder(X_tensor).numpy()\n",
    "\n",
    "# ========================\n",
    "# 1. Latent Space Plot (2D PCA)\n",
    "# ========================\n",
    "pca = PCA(n_components=2)\n",
    "latent_pca = pca.fit_transform(latent)\n",
    "\n",
    "plt.figure(figsize=(8, 6))\n",
    "plt.scatter(latent_pca[:, 0], latent_pca[:, 1], c='blue', alpha=0.5)\n",
    "plt.title('Latent Space Visualization (PCA)')\n",
    "plt.xlabel('PC 1')\n",
    "plt.ylabel('PC 2')\n",
    "plt.grid(True)\n",
    "plt.show()\n",
    "\n",
    "# ========================\n",
    "# 2. Latent Space Plot (t-SNE)\n",
    "# ========================\n",
    "tsne = TSNE(n_components=2, perplexity=30)\n",
    "latent_tsne = tsne.fit_transform(latent)\n",
    "\n",
    "plt.figure(figsize=(8, 6))\n",
    "plt.scatter(latent_tsne[:, 0], latent_tsne[:, 1], c='green', alpha=0.5)\n",
    "plt.title('Latent Space Visualization (t-SNE)')\n",
    "plt.grid(True)\n",
    "plt.show()\n",
    "\n",
    "# ========================\n",
    "# 3. Clustering in Latent Space\n",
    "# ========================\n",
    "kmeans = KMeans(n_clusters=3)\n",
    "labels = kmeans.fit_predict(latent)\n",
    "\n",
    "plt.figure(figsize=(8, 6))\n",
    "plt.scatter(latent_pca[:, 0], latent_pca[:, 1], c=labels, cmap='tab10', alpha=0.6)\n",
    "plt.title('KMeans Clustering in Latent Space')\n",
    "plt.xlabel('PC 1')\n",
    "plt.ylabel('PC 2')\n",
    "plt.grid(True)\n",
    "plt.show()\n",
    "\n",
    "# ========================\n",
    "# 4. Reconstruction Error Over Time\n",
    "# ========================\n",
    "reconstruction_error = np.mean((X - reconstructed)**2, axis=1)\n",
    "\n",
    "plt.figure(figsize=(10, 4))\n",
    "plt.plot(reconstruction_error)\n",
    "plt.title('Reconstruction Error Over Time')\n",
    "plt.xlabel('Time Step')\n",
    "plt.ylabel('MSE')\n",
    "plt.grid(True)\n",
    "plt.show()\n",
    "\n",
    "# ========================\n",
    "# 5. Latent Variables Over Time\n",
    "# ========================\n",
    "plt.figure(figsize=(12, 6))\n",
    "for i in range(min(5, latent.shape[1])):  # Plot up to 5 dimensions\n",
    "    plt.plot(latent[:, i], label=f'Latent Dim {i}')\n",
    "plt.title('Latent Dimensions Over Time')\n",
    "plt.xlabel('Time Step')\n",
    "plt.ylabel('Value')\n",
    "plt.legend()\n",
    "plt.grid(True)\n",
    "plt.show()\n",
    "\n",
    "# ========================\n",
    "# 6. Optional: Save All Plots\n",
    "# ========================\n",
    "# Use plt.savefig('filename.png') after each plot if you want to save them\n"
   ]
  },
  {
   "cell_type": "code",
   "execution_count": 6,
   "id": "db0ea650-f78d-4a2d-ab59-d64c4856e4c1",
   "metadata": {
    "tags": []
   },
   "outputs": [
    {
     "name": "stdout",
     "output_type": "stream",
     "text": [
      "module.encoder.0.weight: torch.Size([128, 2])\n",
      "module.encoder.0.bias: torch.Size([128])\n",
      "module.encoder.2.weight: torch.Size([32, 128])\n",
      "module.encoder.2.bias: torch.Size([32])\n",
      "module.encoder.4.weight: torch.Size([2, 32])\n",
      "module.encoder.4.bias: torch.Size([2])\n",
      "module.decoder.0.weight: torch.Size([32, 2])\n",
      "module.decoder.0.bias: torch.Size([32])\n",
      "module.decoder.2.weight: torch.Size([128, 32])\n",
      "module.decoder.2.bias: torch.Size([128])\n",
      "module.decoder.4.weight: torch.Size([2, 128])\n",
      "module.decoder.4.bias: torch.Size([2])\n"
     ]
    }
   ],
   "source": [
    "for key, value in state_dict.items():\n",
    "    print(f\"{key}: {value.shape}\")\n"
   ]
  },
  {
   "cell_type": "code",
   "execution_count": 3,
   "id": "2772fa56-e2d6-446b-a43b-86a248ee97e4",
   "metadata": {
    "tags": []
   },
   "outputs": [
    {
     "name": "stdout",
     "output_type": "stream",
     "text": [
      "module.encoder.0.weight: torch.Size([128, 2])\n",
      "module.encoder.0.bias: torch.Size([128])\n",
      "module.encoder.2.weight: torch.Size([32, 128])\n",
      "module.encoder.2.bias: torch.Size([32])\n",
      "module.encoder.4.weight: torch.Size([2, 32])\n",
      "module.encoder.4.bias: torch.Size([2])\n",
      "module.decoder.0.weight: torch.Size([32, 2])\n",
      "module.decoder.0.bias: torch.Size([32])\n",
      "module.decoder.2.weight: torch.Size([128, 32])\n",
      "module.decoder.2.bias: torch.Size([128])\n",
      "module.decoder.4.weight: torch.Size([2, 128])\n",
      "module.decoder.4.bias: torch.Size([2])\n"
     ]
    }
   ],
   "source": [
    "type(model)  # This will show: <class 'collections.OrderedDict'>\n",
    "for name, param in model.items():\n",
    "    print(f\"{name}: {param.shape}\")\n"
   ]
  },
  {
   "cell_type": "code",
   "execution_count": null,
   "id": "af5a755d-d01b-48ad-a1d4-d6e170e7fdf4",
   "metadata": {},
   "outputs": [],
   "source": []
  }
 ],
 "metadata": {
  "kernelspec": {
   "display_name": "DPS",
   "language": "python",
   "name": "dps"
  },
  "language_info": {
   "codemirror_mode": {
    "name": "ipython",
    "version": 3
   },
   "file_extension": ".py",
   "mimetype": "text/x-python",
   "name": "python",
   "nbconvert_exporter": "python",
   "pygments_lexer": "ipython3",
   "version": "3.10.10"
  },
  "widgets": {
   "application/vnd.jupyter.widget-state+json": {
    "state": {},
    "version_major": 2,
    "version_minor": 0
   }
  }
 },
 "nbformat": 4,
 "nbformat_minor": 5
}
