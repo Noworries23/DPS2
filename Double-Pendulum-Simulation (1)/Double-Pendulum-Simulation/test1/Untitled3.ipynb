{
 "cells": [
  {
   "cell_type": "code",
   "execution_count": 2,
   "id": "3b145115-3d25-4d5b-a802-2d40aeaed456",
   "metadata": {
    "tags": []
   },
   "outputs": [
    {
     "name": "stdout",
     "output_type": "stream",
     "text": [
      "Keys in the .npz file: ['Time', 'Theta1', 'Theta2', 'X1', 'Y1', 'X2', 'Y2', 'Energy']\n"
     ]
    }
   ],
   "source": [
    "import numpy as np\n",
    "\n",
    "data = np.load(\"/Data/MI_PHYSICS/Double-Pendulum-Simulation/test1/pendulum_data360.npz\")\n",
    "print(\"Keys in the .npz file:\", list(data.keys()))\n"
   ]
  },
  {
   "cell_type": "code",
   "execution_count": null,
   "id": "d913dc4c-cbc0-4704-afd7-e404e5b09f26",
   "metadata": {
    "tags": []
   },
   "outputs": [
    {
     "name": "stdout",
     "output_type": "stream",
     "text": [
      "Creating animation...\n",
      "Displaying animation...\n"
     ]
    }
   ],
   "source": [
    "import numpy as np\n",
    "import matplotlib.pyplot as plt\n",
    "import matplotlib.animation as animation\n",
    "from multiprocessing import Pool, cpu_count\n",
    "from IPython.display import HTML\n",
    "\n",
    "# Load data\n",
    "data = np.load(\"/Data/MI_PHYSICS/Double-Pendulum-Simulation/test1/pendulum_data360.npz\")\n",
    "time = data[\"Time\"]\n",
    "x1, y1 = data[\"X1\"], data[\"Y1\"]\n",
    "x2, y2 = data[\"X2\"], data[\"Y2\"]\n",
    "energy = data[\"Energy\"]\n",
    "\n",
    "# Precompute frame data using multiprocessing\n",
    "def compute_frame_data(frame):\n",
    "    return ([0, x1[frame], x2[frame]], [0, y1[frame], y2[frame]], f\"Energy: {energy[frame]:.3f}\")\n",
    "\n",
    "# Set up a pool of workers\n",
    "with Pool(cpu_count()) as pool:\n",
    "    precomputed_data = pool.map(compute_frame_data, range(len(time)))\n",
    "\n",
    "# Setup figure\n",
    "fig, ax = plt.subplots(figsize=(6, 6))\n",
    "ax.set_xlim(-2, 2)\n",
    "ax.set_ylim(-2, 2)\n",
    "ax.set_aspect('equal')\n",
    "ax.set_title(\"Double Pendulum Simulation\")\n",
    "\n",
    "# Plot elements\n",
    "line, = ax.plot([], [], 'o-', lw=2, markersize=8)\n",
    "energy_text = ax.text(-1.8, 1.8, \"\", fontsize=10)\n",
    "\n",
    "# Update function using precomputed data\n",
    "def update(frame):\n",
    "    coords_x, coords_y, energy_label = precomputed_data[frame]\n",
    "    line.set_data(coords_x, coords_y)\n",
    "    energy_text.set_text(energy_label)\n",
    "    return line, energy_text\n",
    "\n",
    "print(\"Creating animation...\")\n",
    "# Create animation\n",
    "ani = animation.FuncAnimation(fig, update, frames=len(time), interval=20, blit=True)\n",
    "\n",
    "print(\"Displaying animation...\")\n",
    "# Display animation in HTML\n",
    "HTML(ani.to_jshtml())\n"
   ]
  },
  {
   "cell_type": "code",
   "execution_count": 4,
   "id": "5f6b066a-ef40-486a-a10b-601dc846588b",
   "metadata": {
    "tags": []
   },
   "outputs": [
    {
     "name": "stdout",
     "output_type": "stream",
     "text": [
      "['pillow', 'imagemagick', 'imagemagick_file', 'html']\n"
     ]
    }
   ],
   "source": [
    "import matplotlib.animation as animation\n",
    "print(animation.writers.list())\n"
   ]
  },
  {
   "cell_type": "code",
   "execution_count": null,
   "id": "0d4cb4a0-ed45-46a9-afd9-3f2d1bc5b29b",
   "metadata": {},
   "outputs": [],
   "source": []
  }
 ],
 "metadata": {
  "kernelspec": {
   "display_name": "DPS",
   "language": "python",
   "name": "dps"
  },
  "language_info": {
   "codemirror_mode": {
    "name": "ipython",
    "version": 3
   },
   "file_extension": ".py",
   "mimetype": "text/x-python",
   "name": "python",
   "nbconvert_exporter": "python",
   "pygments_lexer": "ipython3",
   "version": "3.10.10"
  },
  "widgets": {
   "application/vnd.jupyter.widget-state+json": {
    "state": {},
    "version_major": 2,
    "version_minor": 0
   }
  }
 },
 "nbformat": 4,
 "nbformat_minor": 5
}
